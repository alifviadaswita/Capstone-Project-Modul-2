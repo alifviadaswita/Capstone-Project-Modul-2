{
  "cells": [
    {
      "cell_type": "markdown",
      "metadata": {
        "id": "view-in-github",
        "colab_type": "text"
      },
      "source": [
        "<a href=\"https://colab.research.google.com/github/alifviadaswita/Capstone-Project-Modul-2/blob/main/Capstone_Project_Modul2_Regresi_BikeSharing.ipynb\" target=\"_parent\"><img src=\"https://colab.research.google.com/assets/colab-badge.svg\" alt=\"Open In Colab\"/></a>"
      ]
    },
    {
      "cell_type": "markdown",
      "id": "69bb20aa",
      "metadata": {
        "id": "69bb20aa"
      },
      "source": [
        "[Sumber data Bike Hiring](http://capitalbikeshare.com/system-data)\n",
        "\n",
        "### **Contents**\n",
        "\n",
        "1. Business Problem Understanding\n",
        "2. Data Understanding\n",
        "3. Data Preprocessing\n",
        "4. Modeling\n",
        "5. Conclusion\n",
        "6. Recommendation\n"
      ]
    },
    {
      "cell_type": "markdown",
      "source": [
        "## Business Problem & Data Understanding"
      ],
      "metadata": {
        "id": "6rcDYhCzKH5I"
      },
      "id": "6rcDYhCzKH5I"
    },
    {
      "cell_type": "markdown",
      "id": "959c75ef",
      "metadata": {
        "id": "959c75ef"
      },
      "source": [
        "## Context\n",
        "\n",
        "Sistem bike-sharing adalah generasi baru dari penyewaan sepeda tradisional, di mana seluruh proses mulai dari pendaftaran anggota, penyewaan, hingga pengembalian sepeda dilakukan secara otomatis. Melalui sistem ini, pengguna dapat dengan mudah menyewa sepeda di suatu lokasi tertentu dan mengembalikannya di lokasi lain. Saat ini, terdapat lebih dari 500 program bike-sharing di seluruh dunia dengan jumlah sepeda mencapai lebih dari 500 ribu unit.\n",
        "\n",
        "Minat terhadap sistem ini semakin meningkat karena peran pentingnya dalam mengatasi permasalahan lalu lintas, lingkungan, dan kesehatan. Selain aplikasi nyata yang menarik, data yang dihasilkan oleh sistem ini juga memiliki karakteristik khusus yang membuatnya menarik untuk penelitian. Berbeda dengan layanan transportasi lain seperti bus atau kereta bawah tanah, durasi perjalanan, posisi keberangkatan, dan posisi kedatangan tercatat secara eksplisit dalam sistem ini.\n",
        "\n",
        "Fitur tersebut menjadikan sistem bike-sharing sebagai jaringan sensor virtual yang dapat digunakan untuk memantau mobilitas di dalam kota. Dengan demikian, diharapkan berbagai peristiwa penting di kota dapat terdeteksi melalui pemantauan data tersebut.\n",
        "\n",
        "\n"
      ]
    },
    {
      "cell_type": "markdown",
      "source": [
        "**Problem Statement**\n",
        "\n",
        "Sistem bike-sharing menjadi salah satu solusi transportasi ramah lingkungan di perkotaan. Namun, jumlah permintaan sepeda dapat sangat bervariasi tergantung pada faktor-faktor eksternal seperti musim, cuaca, waktu dalam sehari, serta kondisi khusus (misalnya hari libur). Operator bike-sharing perlu mengetahui berapa banyak sepeda yang kemungkinan dipinjam pada waktu tertentu untuk mengoptimalkan ketersediaan sepeda dan mengurangi risiko kekurangan ataupun kelebihan stok.\n",
        "\n",
        "Saat ini, operator kesulitan memperkirakan jumlah sepeda yang akan dipinjam pada jam tertentu. Jika jumlah sepeda yang tersedia terlalu sedikit, akan menimbulkan ketidakpuasan pengguna. Sebaliknya, jika jumlah sepeda terlalu banyak, akan meningkatkan biaya operasional karena sepeda tidak terpakai secara efisien.\n"
      ],
      "metadata": {
        "id": "8eafWJDOLAsI"
      },
      "id": "8eafWJDOLAsI"
    },
    {
      "cell_type": "markdown",
      "source": [
        "\n",
        "**Goals**"
      ],
      "metadata": {
        "id": "us_HKjRJLN3X"
      },
      "id": "us_HKjRJLN3X"
    },
    {
      "cell_type": "markdown",
      "source": [
        "Berdasarkan permasalahan tersebut, tentu kita perlu memiliki 'tool' untuk Membangun model prediksi berbasis machine learning regresi untuk memperkirakan jumlah peminjaman sepeda (cnt) pada jam tertentu dengan mempertimbangkan variabel:\n",
        "\n",
        "1. kondisi cuaca (weathersit),\n",
        "2. suhu (temp, atemp),\n",
        "3. kelembaban (hum),\n",
        "4. musim (season),\n",
        "5. waktu (hr),\n",
        "6. serta status hari libur (holiday).\n",
        "\n",
        "Dengan Tujuan untuk :\n",
        "1. Membantu operator dalam perencanaan operasional (misalnya penempatan jumlah sepeda di lokasi strategis).\n",
        "2. Memberikan prediksi permintaan agar ketersediaan sepeda sesuai dengan kebutuhan pengguna.\n",
        "3. Membantu operator dalam menghitung prediksi jumlah sepeda yang perlu dipersiapkan agar dapat memenuhi kebutuhan peminjaman."
      ],
      "metadata": {
        "id": "rGu2B0nAw2YC"
      },
      "id": "rGu2B0nAw2YC"
    },
    {
      "cell_type": "markdown",
      "source": [
        "**Analytic Approach**"
      ],
      "metadata": {
        "id": "YR71UGo1LRzo"
      },
      "id": "YR71UGo1LRzo"
    },
    {
      "cell_type": "markdown",
      "source": [
        "Jadi, yang perlu kita lakukan adalah menganalisis data untuk dapat menemukan pola dari fitur-fitur yang ada, yang dapat membantu memaksimalkan sistem bike-sharing yang sudah ada\n",
        "\n",
        "1. Data Understanding & Preprocessing\n",
        "  a.  Lakukan Exploratory Data Analysis (EDA) untuk memahami distribusi  data, pola musiman, serta hubungan antara fitur (season, hr, holiday, temp, atemp, hum, weathersit) dengan target cnt.\n",
        "  b. Melakukan Cleaning dat atau outlier.\n",
        "  c. Lakukan transformasi/normalisasi fitur\n",
        "  d. Encoding variabel kategorikal ( season, weathersit, holiday) ke bentuk numerik (one-hot encoding atau label encoding).\n",
        "\n",
        "2. Feature Engineering\n",
        "  - Membuat fitur tambahan untuk meningkatkan akurasi prediksi, misalnya:\n",
        "  a. Hari kerja vs akhir pekan (weekday/weekend).\n",
        "  b. Rush hour (pagi 7–9, sore 17–19).\n",
        "  c. Interaksi antara suhu (temp) dan kelembaban (hum).\n",
        "  - Menentukan subset fitur yang paling relevan menggunakan feature\n",
        "  importance atau correlation analysis.\n",
        "\n",
        "3.  Modeling (Supervised Learning – Regression)\n",
        "    - Beberapa model regresi untuk memprediksi cnt:\n",
        "    a.  Baseline Model: Linear Regression (untuk melihat performa awal).\n",
        "    b.  Tree-based Models: Decision Tree Regressor, Random Forest Regressor, Gradient Boosting/XGBoost.\n",
        "    c.  Neural Network Regression\n",
        "    - Hyperparameter tuning (GridSearchCV / RandomizedSearchCV) untuk mendapatkan model terbaik.\n",
        "\n",
        "4.  Evaluation\n",
        "    - Evaluasi performa model menggunakan metrik regresi:\n",
        "   \n",
        "    a.  MAE (Mean Absolute Error) – rata-rata error absolut.\n",
        "    b.  RMSE (Root Mean Squared Error) – penalti lebih besar untuk error besar.\n",
        "    c.  R² Score (Coefficient of Determination) – seberapa baik model menjelaskan variasi data.\n",
        "    - Bandingkan hasil antar model untuk memilih model terbaik.\n",
        "\n",
        "5.  Interpretation & Deployment\n",
        "    - Analisis faktor apa yang paling berpengaruh terhadap jumlah peminjaman sepeda (jam, suhu, musim).\n",
        "    - Visualisasikan prediksi vs aktual untuk melihat performa model.\n",
        "    - Deploy model dalam bentuk dashboard sederhana atau API untuk digunakan oleh operator bike-sharing."
      ],
      "metadata": {
        "id": "w9jkojfkxY5h"
      },
      "id": "w9jkojfkxY5h"
    },
    {
      "cell_type": "markdown",
      "source": [
        "**Metric Evaluation**"
      ],
      "metadata": {
        "id": "rc0iRupTLXGv"
      },
      "id": "rc0iRupTLXGv"
    },
    {
      "cell_type": "markdown",
      "source": [
        "\n",
        "\n",
        "Evaluasi metrik yang akan digunakan adalah RMSE, MAE, dan MAPE, di mana RMSE adalah nilai rataan akar kuadrat dari error, MAE adalah rataan nilai absolut dari error, sedangkan MAPE adalah rataan persentase error yang dihasilkan oleh model regresi. Semakin kecil nilai RMSE, MAE, dan MAPE yang dihasilkan, berarti model semakin akurat dalam memprediksi harga sewa sesuai dengan limitasi fitur yang digunakan.\n",
        "\n",
        "Selain itu, kita juga bisa menggunakan nilai R-squared atau adj. R-squared jika model yang nanti terpilih sebagai final model adalah model linear. Nilai R-squared digunakan untuk mengetahui seberapa baik model dapat merepresentasikan varians keseluruhan data. Semakin mendekati 1, maka semakin fit pula modelnya terhadap data observasi. Namun, metrik ini tidak valid untuk model non-linear.\n"
      ],
      "metadata": {
        "id": "wHCHCQJzxpDp"
      },
      "id": "wHCHCQJzxpDp"
    },
    {
      "cell_type": "markdown",
      "source": [
        "### **1. DATA UNDERSTANDING**"
      ],
      "metadata": {
        "id": "nAExIbnOm67M"
      },
      "id": "nAExIbnOm67M"
    },
    {
      "cell_type": "markdown",
      "source": [
        "\n",
        "\n",
        "Dataset berisi informasi cuaca, waktu, dan jumlah peminjaman.\n",
        "\n",
        "**Attributes Information**\n",
        "**Attributes Information**\n",
        "\n",
        "| **Attribute** | **Data Type** | **Description** |\n",
        "|---------------|---------------|-----------------|\n",
        "| dteday        | Datetime          | Tanggal pencatatan data |\n",
        "| season        | Integer       | Musim (1: Winter, 2: Spring, 3: Summer, 4: Fall) |\n",
        "| hr            | Integer       | Jam (0–23) |\n",
        "| holiday       | Integer       | Hari libur (0: tidak, 1: ya) |\n",
        "| temp          | Float         | Suhu ternormalisasi dalam Celsius. Dihitung dari (t-tmin)/(tmax-tmin), tmin=-8, tmax=+39 |\n",
        "| atemp         | Float         | Suhu terasa ternormalisasi dalam Celsius. Dihitung dari (t-tmin)/(tmax-tmin), tmin=-16, tmax=+50 |\n",
        "| hum           | Float         | Kelembaban ternormalisasi (dibagi 100) |\n",
        "| weathersit    | Integer       | Kondisi cuaca (1: Clear/Few clouds, 2: Mist/Cloudy, 3: Light Snow/Rain, 4: Heavy Rain/Snow) |\n",
        "| casual        | Integer       | Jumlah pengguna casual |\n",
        "| registered    | Integer       | Jumlah pengguna terdaftar |\n",
        "| cnt           | Integer       | Jumlah total peminjaman sepeda (casual + registered) |\n"
      ],
      "metadata": {
        "id": "-DZ9aIwBLapY"
      },
      "id": "-DZ9aIwBLapY"
    },
    {
      "cell_type": "code",
      "source": [
        "# Import library yang dibutuhkan untuk eksplorasi dataset\n",
        "import pandas as pd\n",
        "import numpy as np\n",
        "import matplotlib.pyplot as plt\n",
        "import seaborn as sns\n",
        "\n",
        "from sklearn.model_selection import train_test_split, GridSearchCV, cross_val_score\n",
        "from sklearn.linear_model import LinearRegression, Ridge, Lasso\n",
        "from sklearn.ensemble import RandomForestRegressor\n",
        "from sklearn.metrics import mean_squared_error, r2_score, mean_absolute_error\n",
        "from sklearn.preprocessing import OneHotEncoder, StandardScaler\n",
        "from sklearn.compose import ColumnTransformer\n",
        "from sklearn.pipeline import Pipeline\n",
        "from scipy import stats\n",
        "import pickle\n",
        "\n",
        "import warnings\n",
        "warnings.filterwarnings('ignore')"
      ],
      "metadata": {
        "id": "HZhCMP4W2lry"
      },
      "id": "HZhCMP4W2lry",
      "execution_count": 1,
      "outputs": []
    },
    {
      "cell_type": "code",
      "source": [
        "from google.colab import drive\n",
        "drive.mount('/content/drive')"
      ],
      "metadata": {
        "colab": {
          "base_uri": "https://localhost:8080/"
        },
        "id": "_lFGbdFqJCs1",
        "outputId": "dd5dcded-06de-49fd-84f1-051e389772e9"
      },
      "id": "_lFGbdFqJCs1",
      "execution_count": 2,
      "outputs": [
        {
          "output_type": "stream",
          "name": "stdout",
          "text": [
            "Drive already mounted at /content/drive; to attempt to forcibly remount, call drive.mount(\"/content/drive\", force_remount=True).\n"
          ]
        }
      ]
    },
    {
      "cell_type": "code",
      "source": [
        "import os\n",
        "os.chdir(\"/content/drive/MyDrive/Colab Notebooks/Capstone 2/\")"
      ],
      "metadata": {
        "id": "017Rlh5H2sd4"
      },
      "id": "017Rlh5H2sd4",
      "execution_count": 3,
      "outputs": []
    },
    {
      "cell_type": "code",
      "execution_count": 4,
      "id": "62782f7f",
      "metadata": {
        "id": "62782f7f",
        "colab": {
          "base_uri": "https://localhost:8080/",
          "height": 224
        },
        "outputId": "83dcd5f7-2041-4517-8ddf-d3d86294bc17"
      },
      "outputs": [
        {
          "output_type": "stream",
          "name": "stdout",
          "text": [
            "(12165, 11)\n"
          ]
        },
        {
          "output_type": "execute_result",
          "data": {
            "text/plain": [
              "       dteday   hum  weathersit  holiday  season   atemp  temp  hr  casual  \\\n",
              "0  2011-12-09  0.62           1        0       4  0.3485  0.36  16      24   \n",
              "1  2012-06-17  0.64           1        0       2  0.5152  0.54   4       2   \n",
              "2  2011-06-15  0.53           1        0       2  0.6212  0.62  23      17   \n",
              "3  2012-03-31  0.87           2        0       2  0.3485  0.36   8      19   \n",
              "4  2012-07-31  0.55           1        0       3  0.6970  0.76  18      99   \n",
              "\n",
              "   registered  cnt  \n",
              "0         226  250  \n",
              "1          16   18  \n",
              "2          90  107  \n",
              "3         126  145  \n",
              "4         758  857  "
            ],
            "text/html": [
              "\n",
              "  <div id=\"df-93079b7c-6971-4b36-9bbe-26588e6fd897\" class=\"colab-df-container\">\n",
              "    <div>\n",
              "<style scoped>\n",
              "    .dataframe tbody tr th:only-of-type {\n",
              "        vertical-align: middle;\n",
              "    }\n",
              "\n",
              "    .dataframe tbody tr th {\n",
              "        vertical-align: top;\n",
              "    }\n",
              "\n",
              "    .dataframe thead th {\n",
              "        text-align: right;\n",
              "    }\n",
              "</style>\n",
              "<table border=\"1\" class=\"dataframe\">\n",
              "  <thead>\n",
              "    <tr style=\"text-align: right;\">\n",
              "      <th></th>\n",
              "      <th>dteday</th>\n",
              "      <th>hum</th>\n",
              "      <th>weathersit</th>\n",
              "      <th>holiday</th>\n",
              "      <th>season</th>\n",
              "      <th>atemp</th>\n",
              "      <th>temp</th>\n",
              "      <th>hr</th>\n",
              "      <th>casual</th>\n",
              "      <th>registered</th>\n",
              "      <th>cnt</th>\n",
              "    </tr>\n",
              "  </thead>\n",
              "  <tbody>\n",
              "    <tr>\n",
              "      <th>0</th>\n",
              "      <td>2011-12-09</td>\n",
              "      <td>0.62</td>\n",
              "      <td>1</td>\n",
              "      <td>0</td>\n",
              "      <td>4</td>\n",
              "      <td>0.3485</td>\n",
              "      <td>0.36</td>\n",
              "      <td>16</td>\n",
              "      <td>24</td>\n",
              "      <td>226</td>\n",
              "      <td>250</td>\n",
              "    </tr>\n",
              "    <tr>\n",
              "      <th>1</th>\n",
              "      <td>2012-06-17</td>\n",
              "      <td>0.64</td>\n",
              "      <td>1</td>\n",
              "      <td>0</td>\n",
              "      <td>2</td>\n",
              "      <td>0.5152</td>\n",
              "      <td>0.54</td>\n",
              "      <td>4</td>\n",
              "      <td>2</td>\n",
              "      <td>16</td>\n",
              "      <td>18</td>\n",
              "    </tr>\n",
              "    <tr>\n",
              "      <th>2</th>\n",
              "      <td>2011-06-15</td>\n",
              "      <td>0.53</td>\n",
              "      <td>1</td>\n",
              "      <td>0</td>\n",
              "      <td>2</td>\n",
              "      <td>0.6212</td>\n",
              "      <td>0.62</td>\n",
              "      <td>23</td>\n",
              "      <td>17</td>\n",
              "      <td>90</td>\n",
              "      <td>107</td>\n",
              "    </tr>\n",
              "    <tr>\n",
              "      <th>3</th>\n",
              "      <td>2012-03-31</td>\n",
              "      <td>0.87</td>\n",
              "      <td>2</td>\n",
              "      <td>0</td>\n",
              "      <td>2</td>\n",
              "      <td>0.3485</td>\n",
              "      <td>0.36</td>\n",
              "      <td>8</td>\n",
              "      <td>19</td>\n",
              "      <td>126</td>\n",
              "      <td>145</td>\n",
              "    </tr>\n",
              "    <tr>\n",
              "      <th>4</th>\n",
              "      <td>2012-07-31</td>\n",
              "      <td>0.55</td>\n",
              "      <td>1</td>\n",
              "      <td>0</td>\n",
              "      <td>3</td>\n",
              "      <td>0.6970</td>\n",
              "      <td>0.76</td>\n",
              "      <td>18</td>\n",
              "      <td>99</td>\n",
              "      <td>758</td>\n",
              "      <td>857</td>\n",
              "    </tr>\n",
              "  </tbody>\n",
              "</table>\n",
              "</div>\n",
              "    <div class=\"colab-df-buttons\">\n",
              "\n",
              "  <div class=\"colab-df-container\">\n",
              "    <button class=\"colab-df-convert\" onclick=\"convertToInteractive('df-93079b7c-6971-4b36-9bbe-26588e6fd897')\"\n",
              "            title=\"Convert this dataframe to an interactive table.\"\n",
              "            style=\"display:none;\">\n",
              "\n",
              "  <svg xmlns=\"http://www.w3.org/2000/svg\" height=\"24px\" viewBox=\"0 -960 960 960\">\n",
              "    <path d=\"M120-120v-720h720v720H120Zm60-500h600v-160H180v160Zm220 220h160v-160H400v160Zm0 220h160v-160H400v160ZM180-400h160v-160H180v160Zm440 0h160v-160H620v160ZM180-180h160v-160H180v160Zm440 0h160v-160H620v160Z\"/>\n",
              "  </svg>\n",
              "    </button>\n",
              "\n",
              "  <style>\n",
              "    .colab-df-container {\n",
              "      display:flex;\n",
              "      gap: 12px;\n",
              "    }\n",
              "\n",
              "    .colab-df-convert {\n",
              "      background-color: #E8F0FE;\n",
              "      border: none;\n",
              "      border-radius: 50%;\n",
              "      cursor: pointer;\n",
              "      display: none;\n",
              "      fill: #1967D2;\n",
              "      height: 32px;\n",
              "      padding: 0 0 0 0;\n",
              "      width: 32px;\n",
              "    }\n",
              "\n",
              "    .colab-df-convert:hover {\n",
              "      background-color: #E2EBFA;\n",
              "      box-shadow: 0px 1px 2px rgba(60, 64, 67, 0.3), 0px 1px 3px 1px rgba(60, 64, 67, 0.15);\n",
              "      fill: #174EA6;\n",
              "    }\n",
              "\n",
              "    .colab-df-buttons div {\n",
              "      margin-bottom: 4px;\n",
              "    }\n",
              "\n",
              "    [theme=dark] .colab-df-convert {\n",
              "      background-color: #3B4455;\n",
              "      fill: #D2E3FC;\n",
              "    }\n",
              "\n",
              "    [theme=dark] .colab-df-convert:hover {\n",
              "      background-color: #434B5C;\n",
              "      box-shadow: 0px 1px 3px 1px rgba(0, 0, 0, 0.15);\n",
              "      filter: drop-shadow(0px 1px 2px rgba(0, 0, 0, 0.3));\n",
              "      fill: #FFFFFF;\n",
              "    }\n",
              "  </style>\n",
              "\n",
              "    <script>\n",
              "      const buttonEl =\n",
              "        document.querySelector('#df-93079b7c-6971-4b36-9bbe-26588e6fd897 button.colab-df-convert');\n",
              "      buttonEl.style.display =\n",
              "        google.colab.kernel.accessAllowed ? 'block' : 'none';\n",
              "\n",
              "      async function convertToInteractive(key) {\n",
              "        const element = document.querySelector('#df-93079b7c-6971-4b36-9bbe-26588e6fd897');\n",
              "        const dataTable =\n",
              "          await google.colab.kernel.invokeFunction('convertToInteractive',\n",
              "                                                    [key], {});\n",
              "        if (!dataTable) return;\n",
              "\n",
              "        const docLinkHtml = 'Like what you see? Visit the ' +\n",
              "          '<a target=\"_blank\" href=https://colab.research.google.com/notebooks/data_table.ipynb>data table notebook</a>'\n",
              "          + ' to learn more about interactive tables.';\n",
              "        element.innerHTML = '';\n",
              "        dataTable['output_type'] = 'display_data';\n",
              "        await google.colab.output.renderOutput(dataTable, element);\n",
              "        const docLink = document.createElement('div');\n",
              "        docLink.innerHTML = docLinkHtml;\n",
              "        element.appendChild(docLink);\n",
              "      }\n",
              "    </script>\n",
              "  </div>\n",
              "\n",
              "\n",
              "    <div id=\"df-a8da3368-5b78-41eb-96f5-71ef274487cc\">\n",
              "      <button class=\"colab-df-quickchart\" onclick=\"quickchart('df-a8da3368-5b78-41eb-96f5-71ef274487cc')\"\n",
              "                title=\"Suggest charts\"\n",
              "                style=\"display:none;\">\n",
              "\n",
              "<svg xmlns=\"http://www.w3.org/2000/svg\" height=\"24px\"viewBox=\"0 0 24 24\"\n",
              "     width=\"24px\">\n",
              "    <g>\n",
              "        <path d=\"M19 3H5c-1.1 0-2 .9-2 2v14c0 1.1.9 2 2 2h14c1.1 0 2-.9 2-2V5c0-1.1-.9-2-2-2zM9 17H7v-7h2v7zm4 0h-2V7h2v10zm4 0h-2v-4h2v4z\"/>\n",
              "    </g>\n",
              "</svg>\n",
              "      </button>\n",
              "\n",
              "<style>\n",
              "  .colab-df-quickchart {\n",
              "      --bg-color: #E8F0FE;\n",
              "      --fill-color: #1967D2;\n",
              "      --hover-bg-color: #E2EBFA;\n",
              "      --hover-fill-color: #174EA6;\n",
              "      --disabled-fill-color: #AAA;\n",
              "      --disabled-bg-color: #DDD;\n",
              "  }\n",
              "\n",
              "  [theme=dark] .colab-df-quickchart {\n",
              "      --bg-color: #3B4455;\n",
              "      --fill-color: #D2E3FC;\n",
              "      --hover-bg-color: #434B5C;\n",
              "      --hover-fill-color: #FFFFFF;\n",
              "      --disabled-bg-color: #3B4455;\n",
              "      --disabled-fill-color: #666;\n",
              "  }\n",
              "\n",
              "  .colab-df-quickchart {\n",
              "    background-color: var(--bg-color);\n",
              "    border: none;\n",
              "    border-radius: 50%;\n",
              "    cursor: pointer;\n",
              "    display: none;\n",
              "    fill: var(--fill-color);\n",
              "    height: 32px;\n",
              "    padding: 0;\n",
              "    width: 32px;\n",
              "  }\n",
              "\n",
              "  .colab-df-quickchart:hover {\n",
              "    background-color: var(--hover-bg-color);\n",
              "    box-shadow: 0 1px 2px rgba(60, 64, 67, 0.3), 0 1px 3px 1px rgba(60, 64, 67, 0.15);\n",
              "    fill: var(--button-hover-fill-color);\n",
              "  }\n",
              "\n",
              "  .colab-df-quickchart-complete:disabled,\n",
              "  .colab-df-quickchart-complete:disabled:hover {\n",
              "    background-color: var(--disabled-bg-color);\n",
              "    fill: var(--disabled-fill-color);\n",
              "    box-shadow: none;\n",
              "  }\n",
              "\n",
              "  .colab-df-spinner {\n",
              "    border: 2px solid var(--fill-color);\n",
              "    border-color: transparent;\n",
              "    border-bottom-color: var(--fill-color);\n",
              "    animation:\n",
              "      spin 1s steps(1) infinite;\n",
              "  }\n",
              "\n",
              "  @keyframes spin {\n",
              "    0% {\n",
              "      border-color: transparent;\n",
              "      border-bottom-color: var(--fill-color);\n",
              "      border-left-color: var(--fill-color);\n",
              "    }\n",
              "    20% {\n",
              "      border-color: transparent;\n",
              "      border-left-color: var(--fill-color);\n",
              "      border-top-color: var(--fill-color);\n",
              "    }\n",
              "    30% {\n",
              "      border-color: transparent;\n",
              "      border-left-color: var(--fill-color);\n",
              "      border-top-color: var(--fill-color);\n",
              "      border-right-color: var(--fill-color);\n",
              "    }\n",
              "    40% {\n",
              "      border-color: transparent;\n",
              "      border-right-color: var(--fill-color);\n",
              "      border-top-color: var(--fill-color);\n",
              "    }\n",
              "    60% {\n",
              "      border-color: transparent;\n",
              "      border-right-color: var(--fill-color);\n",
              "    }\n",
              "    80% {\n",
              "      border-color: transparent;\n",
              "      border-right-color: var(--fill-color);\n",
              "      border-bottom-color: var(--fill-color);\n",
              "    }\n",
              "    90% {\n",
              "      border-color: transparent;\n",
              "      border-bottom-color: var(--fill-color);\n",
              "    }\n",
              "  }\n",
              "</style>\n",
              "\n",
              "      <script>\n",
              "        async function quickchart(key) {\n",
              "          const quickchartButtonEl =\n",
              "            document.querySelector('#' + key + ' button');\n",
              "          quickchartButtonEl.disabled = true;  // To prevent multiple clicks.\n",
              "          quickchartButtonEl.classList.add('colab-df-spinner');\n",
              "          try {\n",
              "            const charts = await google.colab.kernel.invokeFunction(\n",
              "                'suggestCharts', [key], {});\n",
              "          } catch (error) {\n",
              "            console.error('Error during call to suggestCharts:', error);\n",
              "          }\n",
              "          quickchartButtonEl.classList.remove('colab-df-spinner');\n",
              "          quickchartButtonEl.classList.add('colab-df-quickchart-complete');\n",
              "        }\n",
              "        (() => {\n",
              "          let quickchartButtonEl =\n",
              "            document.querySelector('#df-a8da3368-5b78-41eb-96f5-71ef274487cc button');\n",
              "          quickchartButtonEl.style.display =\n",
              "            google.colab.kernel.accessAllowed ? 'block' : 'none';\n",
              "        })();\n",
              "      </script>\n",
              "    </div>\n",
              "\n",
              "    </div>\n",
              "  </div>\n"
            ],
            "application/vnd.google.colaboratory.intrinsic+json": {
              "type": "dataframe",
              "variable_name": "df",
              "summary": "{\n  \"name\": \"df\",\n  \"rows\": 12165,\n  \"fields\": [\n    {\n      \"column\": \"dteday\",\n      \"properties\": {\n        \"dtype\": \"object\",\n        \"num_unique_values\": 731,\n        \"samples\": [\n          \"2011-09-25\",\n          \"2012-09-23\",\n          \"2012-09-19\"\n        ],\n        \"semantic_type\": \"\",\n        \"description\": \"\"\n      }\n    },\n    {\n      \"column\": \"hum\",\n      \"properties\": {\n        \"dtype\": \"number\",\n        \"std\": 0.19210242576498282,\n        \"min\": 0.0,\n        \"max\": 1.0,\n        \"num_unique_values\": 89,\n        \"samples\": [\n          0.81,\n          0.28,\n          0.66\n        ],\n        \"semantic_type\": \"\",\n        \"description\": \"\"\n      }\n    },\n    {\n      \"column\": \"weathersit\",\n      \"properties\": {\n        \"dtype\": \"number\",\n        \"std\": 0,\n        \"min\": 1,\n        \"max\": 4,\n        \"num_unique_values\": 4,\n        \"samples\": [\n          2,\n          4,\n          1\n        ],\n        \"semantic_type\": \"\",\n        \"description\": \"\"\n      }\n    },\n    {\n      \"column\": \"holiday\",\n      \"properties\": {\n        \"dtype\": \"number\",\n        \"std\": 0,\n        \"min\": 0,\n        \"max\": 1,\n        \"num_unique_values\": 2,\n        \"samples\": [\n          1,\n          0\n        ],\n        \"semantic_type\": \"\",\n        \"description\": \"\"\n      }\n    },\n    {\n      \"column\": \"season\",\n      \"properties\": {\n        \"dtype\": \"number\",\n        \"std\": 1,\n        \"min\": 1,\n        \"max\": 4,\n        \"num_unique_values\": 4,\n        \"samples\": [\n          2,\n          1\n        ],\n        \"semantic_type\": \"\",\n        \"description\": \"\"\n      }\n    },\n    {\n      \"column\": \"atemp\",\n      \"properties\": {\n        \"dtype\": \"number\",\n        \"std\": 0.17185705468484624,\n        \"min\": 0.0,\n        \"max\": 1.0,\n        \"num_unique_values\": 65,\n        \"samples\": [\n          0.8182,\n          0.9545\n        ],\n        \"semantic_type\": \"\",\n        \"description\": \"\"\n      }\n    },\n    {\n      \"column\": \"temp\",\n      \"properties\": {\n        \"dtype\": \"number\",\n        \"std\": 0.1924917358900912,\n        \"min\": 0.02,\n        \"max\": 1.0,\n        \"num_unique_values\": 50,\n        \"samples\": [\n          0.4,\n          0.84\n        ],\n        \"semantic_type\": \"\",\n        \"description\": \"\"\n      }\n    },\n    {\n      \"column\": \"hr\",\n      \"properties\": {\n        \"dtype\": \"number\",\n        \"std\": 6,\n        \"min\": 0,\n        \"max\": 23,\n        \"num_unique_values\": 24,\n        \"samples\": [\n          5,\n          13\n        ],\n        \"semantic_type\": \"\",\n        \"description\": \"\"\n      }\n    },\n    {\n      \"column\": \"casual\",\n      \"properties\": {\n        \"dtype\": \"number\",\n        \"std\": 49,\n        \"min\": 0,\n        \"max\": 362,\n        \"num_unique_values\": 305,\n        \"samples\": [\n          88,\n          133\n        ],\n        \"semantic_type\": \"\",\n        \"description\": \"\"\n      }\n    },\n    {\n      \"column\": \"registered\",\n      \"properties\": {\n        \"dtype\": \"number\",\n        \"std\": 151,\n        \"min\": 0,\n        \"max\": 876,\n        \"num_unique_values\": 742,\n        \"samples\": [\n          10,\n          556\n        ],\n        \"semantic_type\": \"\",\n        \"description\": \"\"\n      }\n    },\n    {\n      \"column\": \"cnt\",\n      \"properties\": {\n        \"dtype\": \"number\",\n        \"std\": 181,\n        \"min\": 1,\n        \"max\": 970,\n        \"num_unique_values\": 830,\n        \"samples\": [\n          835,\n          650\n        ],\n        \"semantic_type\": \"\",\n        \"description\": \"\"\n      }\n    }\n  ]\n}"
            }
          },
          "metadata": {},
          "execution_count": 4
        }
      ],
      "source": [
        "df = pd.read_csv('data_bike_sharing.csv')\n",
        "print(df.shape)\n",
        "df.head()"
      ]
    },
    {
      "cell_type": "markdown",
      "source": [
        "#### **2. EXPLORATORY DATA ANALYSIS (EDA)**"
      ],
      "metadata": {
        "id": "qFwwgelq-WTD"
      },
      "id": "qFwwgelq-WTD"
    },
    {
      "cell_type": "markdown",
      "source": [
        "**Distribution of Bike Sharing Registered**"
      ],
      "metadata": {
        "id": "XIOCVoep-ajb"
      },
      "id": "XIOCVoep-ajb"
    },
    {
      "cell_type": "code",
      "source": [
        "print(\"\\n--- Info Dataset ---\")\n",
        "print(df.info())\n"
      ],
      "metadata": {
        "id": "6R9GwIbEZAdt",
        "colab": {
          "base_uri": "https://localhost:8080/"
        },
        "outputId": "0c3ef863-8a0f-4f03-ee8c-bcabaf8a5e7f"
      },
      "id": "6R9GwIbEZAdt",
      "execution_count": 5,
      "outputs": [
        {
          "output_type": "stream",
          "name": "stdout",
          "text": [
            "\n",
            "--- Info Dataset ---\n",
            "<class 'pandas.core.frame.DataFrame'>\n",
            "RangeIndex: 12165 entries, 0 to 12164\n",
            "Data columns (total 11 columns):\n",
            " #   Column      Non-Null Count  Dtype  \n",
            "---  ------      --------------  -----  \n",
            " 0   dteday      12165 non-null  object \n",
            " 1   hum         12165 non-null  float64\n",
            " 2   weathersit  12165 non-null  int64  \n",
            " 3   holiday     12165 non-null  int64  \n",
            " 4   season      12165 non-null  int64  \n",
            " 5   atemp       12165 non-null  float64\n",
            " 6   temp        12165 non-null  float64\n",
            " 7   hr          12165 non-null  int64  \n",
            " 8   casual      12165 non-null  int64  \n",
            " 9   registered  12165 non-null  int64  \n",
            " 10  cnt         12165 non-null  int64  \n",
            "dtypes: float64(3), int64(7), object(1)\n",
            "memory usage: 1.0+ MB\n",
            "None\n"
          ]
        }
      ]
    },
    {
      "cell_type": "code",
      "source": [
        "print(\"\\n--- Statistik Deskriptif ---\")\n",
        "print(df.describe())"
      ],
      "metadata": {
        "id": "RCtfORKjZScm",
        "colab": {
          "base_uri": "https://localhost:8080/"
        },
        "outputId": "4bfda517-16bb-4f41-a36c-f118e4167f4c"
      },
      "id": "RCtfORKjZScm",
      "execution_count": 6,
      "outputs": [
        {
          "output_type": "stream",
          "name": "stdout",
          "text": [
            "\n",
            "--- Statistik Deskriptif ---\n",
            "                hum    weathersit       holiday        season         atemp  \\\n",
            "count  12165.000000  12165.000000  12165.000000  12165.000000  12165.000000   \n",
            "mean       0.625451      1.416934      0.029758      2.488615      0.476996   \n",
            "std        0.192102      0.635937      0.169925      1.106157      0.171857   \n",
            "min        0.000000      1.000000      0.000000      1.000000      0.000000   \n",
            "25%        0.470000      1.000000      0.000000      2.000000      0.333300   \n",
            "50%        0.620000      1.000000      0.000000      2.000000      0.484800   \n",
            "75%        0.780000      2.000000      0.000000      3.000000      0.621200   \n",
            "max        1.000000      4.000000      1.000000      4.000000      1.000000   \n",
            "\n",
            "               temp            hr        casual    registered           cnt  \n",
            "count  12165.000000  12165.000000  12165.000000  12165.000000  12165.000000  \n",
            "mean       0.498185     11.519770     35.834443    153.436580    189.271023  \n",
            "std        0.192492      6.931872     49.489286    151.046123    181.223903  \n",
            "min        0.020000      0.000000      0.000000      0.000000      1.000000  \n",
            "25%        0.340000      6.000000      4.000000     34.000000     40.000000  \n",
            "50%        0.500000     12.000000     17.000000    115.000000    142.000000  \n",
            "75%        0.660000     18.000000     49.000000    220.000000    282.000000  \n",
            "max        1.000000     23.000000    362.000000    876.000000    970.000000  \n"
          ]
        }
      ]
    },
    {
      "cell_type": "code",
      "source": [
        "\n",
        "# --- 2. Plot distribusi fitur 'Jumlah total peminjaman sepeda(cnt)' ---\n",
        "plt.figure(figsize=(8,5))\n",
        "sns.histplot(df['cnt'], bins=50, kde=True)\n",
        "plt.title('Registered Distribution Plot', size=15, weight='bold');\n",
        "plt.xlabel(\"cnt\")\n",
        "plt.ylabel(\"Frekuensi\")\n",
        "plt.show()"
      ],
      "metadata": {
        "colab": {
          "base_uri": "https://localhost:8080/",
          "height": 489
        },
        "id": "pR87SeLbYGMA",
        "outputId": "34fd5096-e881-452f-f539-2f157f73df62"
      },
      "id": "pR87SeLbYGMA",
      "execution_count": 7,
      "outputs": [
        {
          "output_type": "display_data",
          "data": {
            "text/plain": [
              "<Figure size 800x500 with 1 Axes>"
            ],
            "image/png": "[encoded data removed]"
          },
          "metadata": {}
        }
      ]
    },
    {
      "cell_type": "markdown",
      "source": [
        "Berdasarkan plot distribusi Jumlah total peminjaman sepeda terlihat bahwa distribusi sangat condong ke kanan (right-skewed). Distribusi yang miring ke kanan ini menunjukkan bahwa peminjaman sepeda cenderung dipengaruhi oleh faktor-faktor eksternal (musim, cuaca, akhir pekan/liburan), dengan pola penggunaan dominan pada jumlah kecil-menengah."
      ],
      "metadata": {
        "id": "srF902gQygsy"
      },
      "id": "srF902gQygsy"
    },
    {
      "cell_type": "code",
      "source": [
        "# --- 3. Rata-rata peminjaman per jam ---\n",
        "plt.figure(figsize=(10,5))\n",
        "sns.lineplot(x=\"hr\", y=\"cnt\", data=df, estimator=\"mean\")\n",
        "plt.title(\"Rata-rata Jumlah Peminjaman Sepeda per Jam\")\n",
        "plt.xlabel(\"Jam\")\n",
        "plt.ylabel(\"Rata-rata cnt\")\n",
        "plt.show()"
      ],
      "metadata": {
        "id": "26u8rAcVYVbv"
      },
      "id": "26u8rAcVYVbv",
      "execution_count": null,
      "outputs": []
    },
    {
      "cell_type": "markdown",
      "source": [
        "Berdasarkan plot distribusiRata-rata peminjaman per jam, Pola penggunaan sepeda sangat dipengaruhi oleh aktivitas harian masyarakat (commuting pattern). Terdapat dua puncak utama: pagi (sekitar 08.00) dan sore (sekitar 17.00–18.00). Malam hari dan dini hari relatif sepi. Siang hari stabil pada tingkat sedang, kemungkinan karena aktivitas santai/rekreasi."
      ],
      "metadata": {
        "id": "Zn4kh9Iwy2nD"
      },
      "id": "Zn4kh9Iwy2nD"
    },
    {
      "cell_type": "code",
      "source": [
        "# --- 4. Rata-rata peminjaman per musim ---\n",
        "plt.figure(figsize=(8,5))\n",
        "sns.barplot(x=\"season\", y=\"cnt\", data=df, estimator=\"mean\", ci=None)\n",
        "plt.title(\"Rata-rata Peminjaman Sepeda per Musim\")\n",
        "plt.xlabel(\"Musim (1=Winter, 2=Spring, 3=Summer, 4=Fall)\")\n",
        "plt.ylabel(\"Rata-rata cnt\")\n",
        "plt.show()"
      ],
      "metadata": {
        "id": "ijG31uIkYaQG"
      },
      "id": "ijG31uIkYaQG",
      "execution_count": null,
      "outputs": []
    },
    {
      "cell_type": "markdown",
      "source": [
        "Berdasarkan plot distribusi Penggunaan sepeda sangat dipengaruhi oleh musim.Winter → paling rendah, Summer → paling tinggi.\n",
        "Pergeseran dari rendah ke tinggi terlihat jelas dari Winter → Spring → Summer, lalu menurun kembali di Fall.\n",
        "Pola ini sesuai dengan kondisi iklim: semakin baik cuacanya, semakin tinggi jumlah peminjaman sepeda."
      ],
      "metadata": {
        "id": "7Pec907fy4uc"
      },
      "id": "7Pec907fy4uc"
    },
    {
      "cell_type": "code",
      "source": [
        "# --- 5. Pengaruh cuaca (weathersit) ---\n",
        "plt.figure(figsize=(8,5))\n",
        "sns.boxplot(x=\"weathersit\", y=\"cnt\", data=df)\n",
        "plt.title(\"Distribusi Peminjaman Berdasarkan Kondisi Cuaca\")\n",
        "plt.xlabel(\"Kondisi Cuaca (1=Clear 2= Mist/Cloudy 3=Light Snow/Rain 4=Heavy Rain/Snow)\")\n",
        "plt.ylabel(\"cnt\")\n",
        "plt.show()"
      ],
      "metadata": {
        "id": "IB2Iu4TfYe8A"
      },
      "id": "IB2Iu4TfYe8A",
      "execution_count": null,
      "outputs": []
    },
    {
      "cell_type": "markdown",
      "source": [
        "Berdasarkan plot distribusi, Cuaca merupakan faktor kunci dalam jumlah peminjaman sepeda.\n",
        "Cerah → peminjaman tertinggi, hujan/salju lebat → peminjaman terendah.\n",
        "Kondisi berawan/berkabut masih mendukung aktivitas bersepeda, walau lebih rendah dibanding cuaca cerah.\n",
        "Hujan/salju ringan sudah berdampak signifikan menurunkan jumlah peminjaman."
      ],
      "metadata": {
        "id": "6F7Wf6XHy56j"
      },
      "id": "6F7Wf6XHy56j"
    },
    {
      "cell_type": "code",
      "source": [
        "season_weather_pivot = df.pivot_table(\n",
        "    index='season',\n",
        "    columns='weathersit',\n",
        "    values='cnt',\n",
        "    aggfunc='sum'\n",
        ")\n",
        "\n",
        "# Tampilkan tabel\n",
        "display(season_weather_pivot)\n",
        "\n",
        "# Plot stacked bar chart\n",
        "pivot_plot = season_weather_pivot.plot.bar(stacked=True, figsize=(12, 7), colormap=\"tab20c\")\n",
        "pivot_plot.set_xlabel('Season')\n",
        "pivot_plot.set_ylabel('Total Rentals')\n",
        "pivot_plot.set_title('Jumlah Peminjaman Sepeda berdasarkan Cuaca di Setiap Musim')\n",
        "\n",
        "plt.show()"
      ],
      "metadata": {
        "id": "Q6bdXz_AOPD_"
      },
      "id": "Q6bdXz_AOPD_",
      "execution_count": null,
      "outputs": []
    },
    {
      "cell_type": "markdown",
      "source": [
        "Berdasarkan grafik di atas, terlihat bahwa jumlah peminjaman sepeda sangat dipengaruhi oleh kombinasi musim dan kondisi cuaca. Secara umum, pola peminjaman menunjukkan tren musiman yang cukup konsisten:\n",
        "\n",
        "Jumlah peminjaman sepeda paling tinggi terjadi pada musim gugur (season 3) dan musim panas (season 2), terutama saat cuaca cerah (weathersit = 1). Sebaliknya, peminjaman turun drastis pada musim semi dan musim dingin, serta sangat rendah saat cuaca hujan atau salju. Hal ini menunjukkan bahwa kombinasi musim dan cuaca sangat memengaruhi tingkat penggunaan sepeda, dengan cuaca cerah sebagai faktor pendorong utama."
      ],
      "metadata": {
        "id": "LLrpL-RHy9Qk"
      },
      "id": "LLrpL-RHy9Qk"
    },
    {
      "cell_type": "markdown",
      "id": "31606e41",
      "metadata": {
        "id": "31606e41"
      },
      "source": [
        "## 3. DATA PREPOCESSING, DATA CLEANING, FEATURE ENGINEERING & PREPROCESSING"
      ]
    },
    {
      "cell_type": "markdown",
      "source": [
        "Pada tahap ini, kita akan melakukan cleaning pada data yang nantinya data yang sudah dibersihkan akan kita gunakan untuk proses analisis selanjutnya. Beberapa hal yang perlu dilakukan adalah:\n",
        "- Drop fitur yang tidak memiliki relevansi terhadap permasalahan yang sedang dihadapi.\n",
        "- Melakukan treatment terhadap missing value jika ada. Bisa dengan cara men-drop fiturnya jika memang tidak dibutuhkan atau bisa juga dengan mengimputasi dengan nilai yang paling masuk akal berdasarkan kasusnya."
      ],
      "metadata": {
        "id": "_yhJfk_YZTAO"
      },
      "id": "_yhJfk_YZTAO"
    },
    {
      "cell_type": "markdown",
      "source": [
        "Untuk proses data preprocessing dan feature engineering, kita akan menggunakan dataframe hasil duplikasi dari dataframe yang sebelumnya digunakan."
      ],
      "metadata": {
        "id": "AfXxbHFKZa2m"
      },
      "id": "AfXxbHFKZa2m"
    },
    {
      "cell_type": "code",
      "source": [
        "df_model = df.copy()"
      ],
      "metadata": {
        "id": "sKl9V-gnaWYY"
      },
      "id": "sKl9V-gnaWYY",
      "execution_count": null,
      "outputs": []
    },
    {
      "cell_type": "code",
      "source": [
        "# Cek info lebih detail untuk setiap fitur\n",
        "listItem = []\n",
        "\n",
        "for col in df_model.columns:\n",
        "    listItem.append([col, df_model[col].dtype, df_model[col].isna().sum(), round((df_model[col].isna().sum()/len(df_model[col]))*100, 2),\n",
        "                    df_model[col].nunique(), list(df_model[col].drop_duplicates().sample(2).values)]);\n",
        "\n",
        "df_model_desc = pd.DataFrame(columns=['dataFeatures', 'dataType', 'null', 'nullPct', 'unique', 'uniqueSample'],\n",
        "                     data=listItem)\n",
        "df_model_desc"
      ],
      "metadata": {
        "id": "i6T_7jjnat22"
      },
      "id": "i6T_7jjnat22",
      "execution_count": null,
      "outputs": []
    },
    {
      "cell_type": "markdown",
      "source": [
        "Dari info dataset di atas, terdapat data yang kosong pada beberapa fitur atau kolom. Selanjutnya, kita perlu mengobservasi lebih lanjut terkait data-data yang hilang tersebut agar dapat menentukan langkah treatment yang tepat untuk mengatasinya.\n"
      ],
      "metadata": {
        "id": "Lf5wbyOgvEZT"
      },
      "id": "Lf5wbyOgvEZT"
    },
    {
      "cell_type": "markdown",
      "source": [
        "Dari info dataset di atas, terdapat data yang kosong pada beberapa fitur atau kolom. Selanjutnya, kita perlu mengobservasi lebih lanjut terkait data-data yang hilang tersebut agar dapat menentukan langkah treatment yang tepat untuk mengatasinya."
      ],
      "metadata": {
        "id": "u3UDHszva2eO"
      },
      "id": "u3UDHszva2eO"
    },
    {
      "cell_type": "code",
      "source": [
        "# Missing value heatmap\n",
        "sns.heatmap(df_model.isnull(), cbar=False);"
      ],
      "metadata": {
        "id": "cr4degpMa-1B"
      },
      "id": "cr4degpMa-1B",
      "execution_count": null,
      "outputs": []
    },
    {
      "cell_type": "code",
      "source": [
        "# --- 1. Cek jumlah missing values per kolom ---\n",
        "print(\"Jumlah missing values tiap kolom:\")\n",
        "print(df_model.isnull().sum())\n",
        "\n",
        "# --- 2. Cek persentase missing values ---\n",
        "print(\"\\nPersentase missing values tiap kolom:\")\n",
        "print((df_model.isnull().mean() * 100).round(2))"
      ],
      "metadata": {
        "id": "jbfLR_JUetIe"
      },
      "id": "jbfLR_JUetIe",
      "execution_count": null,
      "outputs": []
    },
    {
      "cell_type": "markdown",
      "source": [
        "Warna solid gelap (hitam) memenuhi seluruh plot → menandakan tidak ada missing values (NaN) pada dataset. Artinya tidak perlu melakukan imputasi data (seperti mean/median filling) pada dataset ini.\n",
        "\n",
        "hasil dari Cek jumlah dan cek persentase missing values per kolom semuanya 0, artinya dataset benar-benar bersih tanpa missing values"
      ],
      "metadata": {
        "id": "TzrRQppmzM6D"
      },
      "id": "TzrRQppmzM6D"
    },
    {
      "cell_type": "code",
      "source": [
        "# Cek duplikasi\n",
        "print(\"Jumlah duplikat:\", df_model.duplicated().sum())\n"
      ],
      "metadata": {
        "id": "bKeF0locbL7W"
      },
      "id": "bKeF0locbL7W",
      "execution_count": null,
      "outputs": []
    },
    {
      "cell_type": "markdown",
      "source": [
        "Berdasarkan hasil pemeriksaan menggunakan duplicated(), tidak ditemukan data duplikat dalam dataset. Hal ini sesuai dengan hasil perhitungan jumlah data unik yang sama dengan jumlah keseluruhan data, sehingga dataset dapat dipastikan bebas dari duplikasi."
      ],
      "metadata": {
        "id": "HWvqBSaRzPN7"
      },
      "id": "HWvqBSaRzPN7"
    },
    {
      "cell_type": "markdown",
      "source": [
        "**Drop Columns**"
      ],
      "metadata": {
        "id": "8F5OcLMwbkXW"
      },
      "id": "8F5OcLMwbkXW"
    },
    {
      "cell_type": "markdown",
      "source": [
        "Tentu perlu ada pertimbangan sebelum melakukan drop pada kolom atau fitur. Sebagai pertimbangan, pada tahap awal ini kita bisa menggunakan domain knowledge untuk memutuskan kira-kira fitur mana saja yang dirasa tidak memiliki relevansi.\n",
        "- Berdasarkan domain knowledge dan analisis korelasi, beberapa fitur tidak relevan untuk dimasukkan dalam model prediksi jumlah peminjaman sepeda (cnt). Fitur dteday bersifat sebagai identifier dan informasi tanggal mentah, sehingga tidak secara langsung memengaruhi target.\n",
        "\n",
        "- Selain itu, fitur casual dan registered tidak dapat digunakan karena secara matematis keduanya merupakan komponen langsung dari target (cnt = casual + registered).\n",
        "\n",
        "- Kolom temp dan atemp, dua variabel sangat berkorelasi, salah satunya\n",
        "dibuang untuk menghindari multikolinearitas pada model machine learning.\n",
        "\n"
      ],
      "metadata": {
        "id": "mHyRuetpbli_"
      },
      "id": "mHyRuetpbli_"
    },
    {
      "cell_type": "code",
      "source": [
        "# Drop beberapa kolom yang tidak diperlukan\n",
        "df_model.drop(['dteday', 'casual', 'registered','atemp'], axis=1, inplace=True)\n"
      ],
      "metadata": {
        "id": "NxSJeWuAcxXp"
      },
      "id": "NxSJeWuAcxXp",
      "execution_count": null,
      "outputs": []
    },
    {
      "cell_type": "code",
      "source": [
        "# Cek info dataset\n",
        "df_model.info()"
      ],
      "metadata": {
        "id": "eLiz0rd-c_P2"
      },
      "id": "eLiz0rd-c_P2",
      "execution_count": null,
      "outputs": []
    },
    {
      "cell_type": "markdown",
      "source": [
        "Sekarang kolom 'dteday', 'casual', 'registered' dan 'atemp' sudah tidak ada."
      ],
      "metadata": {
        "id": "PpIk64Ht0Vkz"
      },
      "id": "PpIk64Ht0Vkz"
    },
    {
      "cell_type": "markdown",
      "source": [
        "Selanjutnya, kita juga perlu mengecek apakah terdapat nilai-nilai yang dirasa tidak masuk akal pada setiap fiturnya, misal ada nilai yang kurang dari 0. Kita bisa mengeceknya melalui statistika deskriptif untuk tiap numerikal fitur."
      ],
      "metadata": {
        "id": "oHlHAs1x0wTz"
      },
      "id": "oHlHAs1x0wTz"
    },
    {
      "cell_type": "code",
      "execution_count": null,
      "id": "a54cec0f",
      "metadata": {
        "id": "a54cec0f"
      },
      "outputs": [],
      "source": [
        "# Tentukan fitur numerikal\n",
        "num_features = [col for col in df_model.columns if df_model[col].dtypes != 'object']\n",
        "\n",
        "# Tampilkan statistik deskriptif\n",
        "print(\"Statistik deskriptif fitur numerikal:\\n\")\n",
        "print(df_model[num_features].describe().T)\n",
        "\n"
      ]
    },
    {
      "cell_type": "markdown",
      "source": [
        "Berdasarkan hasil eksplorasi statistik deskriptif, tidak ditemukan adanya fitur dengan nilai negatif (< 0). Namun demikian, terdapat beberapa fitur yang memiliki nilai minimum sama dengan 0, di antaranya:\n",
        "hum, holiday, hr (jam)\n",
        "\n",
        "Secara logis, nilai 0 pada fitur-fitur tersebut masih masuk akal:\n",
        "- hum = 0 menggambarkan kondisi kelembapan sangat kering (meskipun jarang terjadi).\n",
        "- holiday = 0 berarti hari tersebut bukan hari libur.\n",
        "- hr = 0 menunjukkan jam tengah malam.\n",
        "\n",
        "\n",
        "Dengan demikian, tidak ada indikasi data yang “tidak masuk akal”, Oleh karena itu, data dengan nilai 0 pada fitur-fitur ini tetap dipertahankan, karena secara domain knowledge masih relevan untuk analisis dan pemodelan prediktif."
      ],
      "metadata": {
        "id": "-4ZS7TmTj7JM"
      },
      "id": "-4ZS7TmTj7JM"
    },
    {
      "cell_type": "markdown",
      "source": [
        "**Data Correlation**"
      ],
      "metadata": {
        "id": "1HsLoWxtxpVK"
      },
      "id": "1HsLoWxtxpVK"
    },
    {
      "cell_type": "code",
      "source": [
        "# Hitung korelasi hanya untuk fitur numerik\n",
        "corr_matrix = df_model.corr(numeric_only=True)\n",
        "\n",
        "# Plot correlation matrix\n",
        "plt.figure(figsize=(12,8))\n",
        "sns.heatmap(corr_matrix, annot=True, cmap='coolwarm', fmt=\".2f\", linewidths=0.5)\n",
        "plt.title(\"Correlation Matrix\", fontsize=16)\n",
        "plt.show()\n",
        "\n",
        "# Fokus ke korelasi dengan target 'cnt'\n",
        "print(\"Korelasi dengan target (cnt):\")\n",
        "print(corr_matrix['cnt'].sort_values(ascending=False))"
      ],
      "metadata": {
        "id": "74RBttQDxsc4"
      },
      "id": "74RBttQDxsc4",
      "execution_count": null,
      "outputs": []
    },
    {
      "cell_type": "markdown",
      "source": [
        "Correlation matrix menunjukkan bahwa tidak ada fitur yang memiliki korelasi yang kuat terhadap fitur cnt. Korelasi paling tinggi dimiliki oleh fitur 'hr', dimana jumlah peminjaman sepeda paling dipengaruhi oleh waktu"
      ],
      "metadata": {
        "id": "wWftEJWM0G3o"
      },
      "id": "wWftEJWM0G3o"
    },
    {
      "cell_type": "markdown",
      "source": [
        "Selanjutnya, kita akan mengecek distribusi data dan outliers untuk tiap numerikal fitur. Jika distribusinya memiliki skewness yang tinggi, salah satu cara yang dapat kita lakukan untuk menguranginya adalah dengan melakukan rekayasa pada tiap fiturnya."
      ],
      "metadata": {
        "id": "NyU8uLx31rXq"
      },
      "id": "NyU8uLx31rXq"
    },
    {
      "cell_type": "markdown",
      "source": [
        "**Outliers Detection**"
      ],
      "metadata": {
        "id": "jkV36mmEyBoX"
      },
      "id": "jkV36mmEyBoX"
    },
    {
      "cell_type": "code",
      "source": [
        "# Cek deskriptif statistik kolom cnt\n",
        "df_model['cnt'].describe()"
      ],
      "metadata": {
        "id": "hIbcQl_LxLj8"
      },
      "id": "hIbcQl_LxLj8",
      "execution_count": null,
      "outputs": []
    },
    {
      "cell_type": "markdown",
      "source": [
        "Banyaknya outliers pada data tentu akan memengaruhi hasil analisis dan pemodelan yang dilakukan. Ada beberapa hal yang harus dipertimbangkan sebelum memutuskan treatment yang sesuai dengan data, di antaranya adalah dengan mempertimbangkan sisi domain knowledge."
      ],
      "metadata": {
        "id": "dIpPvYovyQz3"
      },
      "id": "dIpPvYovyQz3"
    },
    {
      "cell_type": "code",
      "source": [
        "plt.figure(figsize=(12,6))\n",
        "sns.boxplot(data=df_model[['season','hr','temp','hum','weathersit','cnt']])\n",
        "plt.title(\"Boxplot untuk Deteksi Outliers\")\n",
        "plt.show()"
      ],
      "metadata": {
        "id": "_JJ6QDZbx8Zo"
      },
      "id": "_JJ6QDZbx8Zo",
      "execution_count": null,
      "outputs": []
    },
    {
      "cell_type": "markdown",
      "source": [
        "Pada fitur cnt ditemukan adanya outlier. Untuk mengatasi hal ini, dilakukan rekayasa data dengan memanfaatkan kombinasi hasil deteksi outlier menggunakan metode IQR dan domain knowledge. Dengan strategi ini, model yang dihasilkan akan lebih stabil karena hanya dilatih pada data dalam rentang 'clean dataset'. Namun, perlu dicatat bahwa performa model kemungkinan menurun atau bias ketika melakukan prediksi pada data baru yang berada di luar rentang tersebut"
      ],
      "metadata": {
        "id": "3UEGeM9z1H-4"
      },
      "id": "3UEGeM9z1H-4"
    },
    {
      "cell_type": "markdown",
      "source": [
        "IQR Method (lebih robust)\n",
        "\n",
        "Gunakan Interquartile Range (IQR) untuk mendeteksi data di luar rentang [Q1 – 1.5IQR, Q3 + 1.5IQR]."
      ],
      "metadata": {
        "id": "_laYE9ZPy9Ja"
      },
      "id": "_laYE9ZPy9Ja"
    },
    {
      "cell_type": "code",
      "source": [
        "# Membuat fungsi untuk mengecek outliers\n",
        "def find_anomalies(data):\n",
        "    q1 = data.quantile(0.25)\n",
        "    q3 = data.quantile(0.75)\n",
        "    iqr = q3 - q1\n",
        "    limit = iqr*1.5\n",
        "    print(f'IQR: {iqr}')\n",
        "\n",
        "    limit_bawah = q1 - limit\n",
        "    limit_atas = q3 + limit\n",
        "    print(f'limit_bawah: {limit_bawah}')\n",
        "    print(f'limit_atas: {limit_atas}')\n",
        "\n"
      ],
      "metadata": {
        "id": "MsQcX7FrcLAm"
      },
      "id": "MsQcX7FrcLAm",
      "execution_count": null,
      "outputs": []
    },
    {
      "cell_type": "code",
      "source": [
        "# Outliers pada fitur cnt\n",
        "find_anomalies(df_model['cnt'])"
      ],
      "metadata": {
        "id": "Mhx8QKKv9rOp"
      },
      "id": "Mhx8QKKv9rOp",
      "execution_count": null,
      "outputs": []
    },
    {
      "cell_type": "code",
      "source": [
        "# Outliers pada fitur hum\n",
        "find_anomalies(df_model['hum'])"
      ],
      "metadata": {
        "id": "OqK7F9lu92Gp"
      },
      "id": "OqK7F9lu92Gp",
      "execution_count": null,
      "outputs": []
    },
    {
      "cell_type": "code",
      "source": [
        "# Outliers pada fitur temp\n",
        "find_anomalies(df_model['temp'])"
      ],
      "metadata": {
        "id": "55SO7b05-ZSh"
      },
      "id": "55SO7b05-ZSh",
      "execution_count": null,
      "outputs": []
    },
    {
      "cell_type": "code",
      "source": [
        "# Outliers pada fitur weathersit\n",
        "find_anomalies(df_model['weathersit'])"
      ],
      "metadata": {
        "id": "2PQhIp-t942g"
      },
      "id": "2PQhIp-t942g",
      "execution_count": null,
      "outputs": []
    },
    {
      "cell_type": "code",
      "source": [
        "# Outliers pada fitur hr\n",
        "find_anomalies(df_model['hr'])"
      ],
      "metadata": {
        "id": "dRPv--e39wQJ"
      },
      "id": "dRPv--e39wQJ",
      "execution_count": null,
      "outputs": []
    },
    {
      "cell_type": "markdown",
      "source": [
        "Selanjutnya, kita dapat memulai feature engineering terhadap fitur-fitur numerika"
      ],
      "metadata": {
        "id": "g9dyWr4q6Ju4"
      },
      "id": "g9dyWr4q6Ju4"
    },
    {
      "cell_type": "code",
      "source": [
        "# Cek deskriptif statistik kolom cnt\n",
        "df_model['cnt'].describe()"
      ],
      "metadata": {
        "id": "mDluEjif6RPR"
      },
      "id": "mDluEjif6RPR",
      "execution_count": null,
      "outputs": []
    },
    {
      "cell_type": "code",
      "source": [
        "# Cek cnt > $645.0\n",
        "df_model[df_model['cnt'] > 645.0].count()['cnt']"
      ],
      "metadata": {
        "id": "pBEyhQHv566A"
      },
      "id": "pBEyhQHv566A",
      "execution_count": null,
      "outputs": []
    },
    {
      "cell_type": "markdown",
      "source": [
        "Terlihat bahwa 75% data pada kolom count bernilai kurang dari 282, sedangkan nilai maksimalnya adalah 970. Hal ini menunjukkan adanya perbedaan yang cukup signifikan antara data mayoritas dengan data ekstrem, sehingga distribusinya condong ke arah kanan (positive skewness).\n",
        "\n",
        "Nilai rata-rata (mean) sebesar 189.27 lebih tinggi daripada nilai median (50%) sebesar 142, yang kembali mengindikasikan adanya outlier pada bagian kanan distribusi. Dengan standar deviasi sebesar 181.22, variasi data juga cukup besar dibandingkan nilai rata-rata, sehingga menunjukkan sebaran data yang lebar.\n",
        "\n",
        "Jika menggunakan metode IQR (Interquartile Range), diperoleh:\n",
        "\n",
        "Batas bawah = Q1 − 1.5 × IQR = 40 − (1.5 × 242) = 37 − 345 = 323 (bukan 323)\n",
        "\n",
        "Batas atas = Q3 + 1.5 × IQR = 282 + (1.5 × 242) = 645\n",
        "\n",
        "Karena nilai minimum data 1 > -323, maka tidak ada data yang melewati batas bawah, maka tidak ada outlier di sisi bawah.\n",
        "Karena max = 970 > 645 → ada outlier di bagian atas (antara 646 sampai 970).\n",
        "\n",
        "terdapat 338 data yang nilai cnt-nya lebih besar dari 645.0 (batas atas berdasarkan metode IQR). Oleh karena itu, data yang memiliki cnt lebih dari 645.0 tidak akan dimasukkan ke dalam pemodelan, sehingga skewness-nya pun berkurang. Hal ini tentu akan menjadi limitasi untuk model yang nantinya dibangun.\n",
        "\n"
      ],
      "metadata": {
        "id": "7XdR2zi3xb5j"
      },
      "id": "7XdR2zi3xb5j"
    },
    {
      "cell_type": "code",
      "source": [
        "# Filtering data (hapus outlier)\n",
        "df_model = df_model[(df_model['cnt'] <= 645.0)]\n",
        "\n",
        "# Plot distribusi sebelum dan sesudah filtering\n",
        "fig, axes = plt.subplots(2, 2, figsize=(10, 8))\n",
        "\n",
        "# Histogram sebelum filtering\n",
        "axes[0,0].hist(df[\"cnt\"], bins=30, edgecolor='black')\n",
        "axes[0,0].set_title(\"Histogram Sebelum Filtering\")\n",
        "\n",
        "# Boxplot sebelum filtering\n",
        "axes[0,1].boxplot(df[\"cnt\"], vert=False)\n",
        "axes[0,1].set_title(\"Boxplot Sebelum Filtering\")\n",
        "\n",
        "# Histogram sesudah filtering\n",
        "axes[1,0].hist(df_model[\"cnt\"], bins=30, edgecolor='black')\n",
        "axes[1,0].set_title(\"Histogram Sesudah Filtering\")\n",
        "\n",
        "# Boxplot sesudah filtering\n",
        "axes[1,1].boxplot(df_model[\"cnt\"], vert=False)\n",
        "axes[1,1].set_title(\"Boxplot Sesudah Filtering\")\n",
        "\n",
        "plt.tight_layout()\n",
        "plt.show()"
      ],
      "metadata": {
        "id": "FtAPbFu95b03"
      },
      "id": "FtAPbFu95b03",
      "execution_count": null,
      "outputs": []
    },
    {
      "cell_type": "code",
      "source": [
        "# Cek jumlah baris sebelum dan sesudah filtering\n",
        "print(\"Jumlah data awal:\", df.shape[0])\n",
        "print(\"Jumlah data setelah filtering:\", df_model.shape[0])\n",
        "\n",
        "# Cek deskriptif statistik setelah filtering\n",
        "print(\"\\nDeskriptif Statistik Setelah Filtering:\")\n",
        "print(df_model[\"cnt\"].describe())\n",
        "\n",
        "# Cek apakah masih ada nilai di atas batas upper bound\n",
        "outlier_check = df_model[df_model[\"cnt\"] > 645.0] # Changed upper to upper_bound\n",
        "print(\"\\nJumlah outlier tersisa:\", len(outlier_check))\n",
        "\n",
        "# Kalau mau lihat contoh data yang masih outlier (kalau ada)\n",
        "print(outlier_check.head())"
      ],
      "metadata": {
        "id": "Jnm7FZkv2St8"
      },
      "id": "Jnm7FZkv2St8",
      "execution_count": null,
      "outputs": []
    },
    {
      "cell_type": "markdown",
      "source": [
        "Setelah melalui proses pembersihan data dan eliminasi outlier, jumlah data yang tersisa untuk pemodelan adalah 11.827 baris dari total 12.165 baris data awal. Dengan demikian, terdapat sekitar 2,8% data yang dieliminasi.\n",
        "\n",
        "Proporsi data yang tereliminasi relatif kecil, sehingga tidak mengganggu representativitas keseluruhan dataset. Justru, eliminasi ini diharapkan dapat meningkatkan kualitas data dengan mengurangi pengaruh nilai ekstrem yang berpotensi menyebabkan bias pada model. Dengan demikian, model yang dibangun nantinya diharapkan memiliki performa yang lebih stabil dan generalisasi yang lebih baik.\""
      ],
      "metadata": {
        "id": "cqos1k92AxFp"
      },
      "id": "cqos1k92AxFp"
    },
    {
      "cell_type": "markdown",
      "source": [
        "## 4. MODELING"
      ],
      "metadata": {
        "id": "QwUEII99nNK9"
      },
      "id": "QwUEII99nNK9"
    },
    {
      "cell_type": "markdown",
      "id": "38bfe52c",
      "metadata": {
        "id": "38bfe52c"
      },
      "source": [
        "\n",
        "Kami akan mencoba beberapa model:\n",
        "- **Linear Regression** — baseline; untuk hubungan linear.\n",
        "- **Ridge & Lasso** — linear dengan regularisasi untuk mengurangi overfitting dan melakukan feature selection (Lasso).\n",
        "- **Random Forest Regressor** — model ensemble non-linear yang sering kuat untuk data tabular.\n",
        "\n",
        "Setiap model akan dievaluasi menggunakan **RMSE**, **MAE**, dan **R²**."
      ]
    },
    {
      "cell_type": "code",
      "source": [
        "pip install xgboost"
      ],
      "metadata": {
        "id": "n9zsSdO7Ab9z"
      },
      "id": "n9zsSdO7Ab9z",
      "execution_count": null,
      "outputs": []
    },
    {
      "cell_type": "code",
      "source": [
        "# Import library untuk modeling\n",
        "\n",
        "from sklearn.model_selection import train_test_split, cross_val_score, RandomizedSearchCV, GridSearchCV, KFold\n",
        "\n",
        "from sklearn.preprocessing import OneHotEncoder\n",
        "from sklearn.compose import ColumnTransformer\n",
        "from sklearn.pipeline import Pipeline\n",
        "\n",
        "\n",
        "from sklearn.linear_model import LinearRegression\n",
        "from sklearn.neighbors import KNeighborsRegressor\n",
        "from sklearn.tree import DecisionTreeRegressor\n",
        "from sklearn.ensemble import RandomForestRegressor\n",
        "from xgboost import XGBRegressor\n",
        "from xgboost.sklearn import XGBRegressor\n",
        "\n",
        "from sklearn.compose import TransformedTargetRegressor\n",
        "\n",
        "from sklearn.preprocessing import StandardScaler\n",
        "\n",
        "from sklearn.metrics import r2_score, mean_squared_error, mean_absolute_error, mean_absolute_percentage_error"
      ],
      "metadata": {
        "id": "GtJfmVUv1Ygv"
      },
      "id": "GtJfmVUv1Ygv",
      "execution_count": null,
      "outputs": []
    },
    {
      "cell_type": "markdown",
      "source": [
        "Cek Hasil Encoding"
      ],
      "metadata": {
        "id": "8lE5bQLv2WrQ"
      },
      "id": "8lE5bQLv2WrQ"
    },
    {
      "cell_type": "markdown",
      "source": [
        "Agar dapat menggunakan semua fitur yang dipilih, maka fitur-fitur kategorikal harus diubah menjadi fitur numerikal. Kita dapat menggunakan ColumnTransformer untuk dapat mengubah tipe datanya, yang mana nanti dapat diaplikasikan pada pipeline model."
      ],
      "metadata": {
        "id": "z-OHpiUmDNs4"
      },
      "id": "z-OHpiUmDNs4"
    },
    {
      "cell_type": "code",
      "execution_count": null,
      "id": "ad38c02f",
      "metadata": {
        "id": "ad38c02f"
      },
      "outputs": [],
      "source": [
        "# Check columns in filtered_data\n",
        "print(\"Kolom dalam df_model sebelum drop:\", df_model.columns.tolist())\n",
        "\n",
        "# Drop columns if they still exist in filtered_data\n",
        "columns_to_drop = ['dteday', 'casual', 'registered']\n",
        "\n",
        "# Check which columns actually exist before dropping\n",
        "existing_columns_to_drop = [col for col in columns_to_drop if col in df_model.columns]\n",
        "if existing_columns_to_drop:\n",
        "    X = df_model.drop(existing_columns_to_drop + [\"cnt\"], axis=1) # Drop target 'cnt' as well\n",
        "else:\n",
        "     X = df_model.drop(\"cnt\", axis=1) # Drop target 'cnt' only\n",
        "\n",
        "y = df_model[\"cnt\"] # Define target y\n",
        "\n",
        "print(\"Kolom dalam X setelah drop:\", X.columns.tolist())\n",
        "\n",
        "# Tentukan kolom numerik & kategorikal berdasarkan kolom X"
      ]
    },
    {
      "cell_type": "markdown",
      "source": [
        "cnt merupakan kolom target (jumlah total peminjaman sepeda) yang ingin diprediksi dengan machine learning.\n",
        "\n",
        "Dalam machine learning, data dibagi menjadi:\n",
        "1. X (fitur/predictors/independent variables) → input untuk model.\n",
        "2. y (target/dependent variable) → output yang ingin diprediksi.\n",
        "\n",
        "Jika cnt tetap dimasukkan ke X, maka model akan belajar dari jawaban target itu sendiri, sehingga terjadi data leakage (model jadi \"curang\" karena tahu jawabannya dari awal). sehingga cnt di-drop dari X lalu disimpan di y:\n",
        "\n",
        "X = df_model.drop([...,\"cnt\"], axis=1)  # fitur\n",
        "\n",
        "y = df_model[\"cnt\"]  # target"
      ],
      "metadata": {
        "id": "Vo-KL4afKtf4"
      },
      "id": "Vo-KL4afKtf4"
    },
    {
      "cell_type": "code",
      "source": [
        "# Feature engineering: hour bins and peak\n",
        "if 'hr' in df_model.columns:\n",
        "    df_model['hr'] = df_model['hr'].astype(int)\n",
        "    def hour_bin(h):\n",
        "        if 5 <= h < 12:\n",
        "            return 'morning'\n",
        "        elif 12 <= h < 17:\n",
        "            return 'afternoon'\n",
        "        elif 17 <= h < 21:\n",
        "            return 'evening'\n",
        "        else:\n",
        "            return 'night'\n",
        "    df_model['daypart'] = df_model['hr'].apply(hour_bin)\n",
        "    df_model['is_peak'] = df_model['hr'].isin([7,8,9,16,17,18]).astype(int)\n",
        "\n",
        "# Quick check\n",
        "display(df_model.head())\n",
        "print('Shape after engineering:', df_model.shape)"
      ],
      "metadata": {
        "id": "1A8JcU7OI09F"
      },
      "id": "1A8JcU7OI09F",
      "execution_count": null,
      "outputs": []
    },
    {
      "cell_type": "markdown",
      "source": [
        "nilai jam (hr) perlu dilakukan scaling (normalisasi/standardisasi) sebelum dipakai ke model machine learning, Jam (0–23) bukanlah continuous variable murni seperti suhu atau kelembaban. dan Jika langsung dipakai tanpa transformasi, model bisa “menganggap” bahwa jam 23 jauh sekali dari jam 0, padahal sebenarnya berdekatan.\n",
        "\n",
        "Jam 7–10 (pagi) → orang berangkat kerja/sekolah.\n",
        "→ Biasanya terjadi lonjakan permintaan transportasi, sepeda, ride-sharing, dll.\n",
        "\n",
        "Jam 16–18 (sore) → orang pulang kerja/sekolah.\n",
        "→ Pola serupa: lonjakan penggunaan kendaraan atau layanan."
      ],
      "metadata": {
        "id": "Pgbc1T0yTNBp"
      },
      "id": "Pgbc1T0yTNBp"
    },
    {
      "cell_type": "code",
      "source": [
        "# Tentukan jenis kolom\n",
        "numeric_features = X.select_dtypes(include=np.number).columns.tolist()\n",
        "categorical_features = X.select_dtypes(exclude=np.number).columns.tolist()\n",
        "numeric_features"
      ],
      "metadata": {
        "id": "vxR1YEK5LrOQ"
      },
      "id": "vxR1YEK5LrOQ",
      "execution_count": null,
      "outputs": []
    },
    {
      "cell_type": "code",
      "source": [
        "categorical_features"
      ],
      "metadata": {
        "id": "96oy1BTqLtz3"
      },
      "id": "96oy1BTqLtz3",
      "execution_count": null,
      "outputs": []
    },
    {
      "cell_type": "code",
      "source": [
        "# Ensure only expected features are included\n",
        "expected_numeric_features = ['hum', 'weathersit', 'holiday', 'season', 'temp','hr']\n",
        "expected_categorical_features = []\n",
        "\n",
        "numeric_features = [f for f in numeric_features if f in expected_numeric_features]\n",
        "categorical_features = [f for f in categorical_features if f in expected_categorical_features]\n",
        "\n",
        "print(\"Fitur Numerik untuk Preprocessor:\", numeric_features)\n",
        "print(\"Fitur Kategorikal untuk Preprocessor:\", categorical_features)\n",
        "\n",
        "# Buat ColumnTransformer\n",
        "preprocessor = ColumnTransformer(\n",
        "    transformers=[\n",
        "        (\"num\", StandardScaler(), numeric_features),\n",
        "        (\"cat\", OneHotEncoder(drop=\"first\"), categorical_features)\n",
        "    ],\n",
        "    remainder='passthrough' # Keep other columns (if any) - Re-added to handle potential extra columns not in defined lists\n",
        ")\n",
        "X_transformed = preprocessor.fit_transform(X)\n",
        "\n",
        "# Tampilkan info shape\n",
        "print(\"\\nShape sebelum transform:\", X.shape)\n",
        "print(\"Shape sesudah transform:\", X_transformed.shape)"
      ],
      "metadata": {
        "id": "vmfWU02FL50J"
      },
      "id": "vmfWU02FL50J",
      "execution_count": null,
      "outputs": []
    },
    {
      "cell_type": "markdown",
      "source": [
        "**Data Splitting**"
      ],
      "metadata": {
        "id": "F8FjMOiuEjUx"
      },
      "id": "F8FjMOiuEjUx"
    },
    {
      "cell_type": "code",
      "source": [
        "# Tentukan target\n",
        "TARGET = 'cnt'\n",
        "\n",
        "# Splitting data training dan test dengan proporsi 70:30\n",
        "X_train, X_test, y_train, y_test = train_test_split(\n",
        "    X, y,\n",
        "    test_size=0.3,        # 30% data untuk testing\n",
        "    random_state=1,      # agar hasil konsisten setiap dijalankan\n",
        "    shuffle=True          # acak data sebelum dibagi\n",
        ")\n",
        "\n",
        "print(\"Ukuran X_train :\", X_train.shape)\n",
        "print(\"Ukuran X_test  :\", X_test.shape)\n",
        "print(\"Ukuran y_train :\", y_train.shape)\n",
        "print(\"Ukuran y_test  :\", y_test.shape)"
      ],
      "metadata": {
        "id": "_0xVim8mElTA"
      },
      "id": "_0xVim8mElTA",
      "execution_count": null,
      "outputs": []
    },
    {
      "cell_type": "markdown",
      "source": [
        "Membagi data menjadi 70% training dan 30% testing.\n",
        "\n",
        "Training dipakai untuk melatih model, testing dipakai untuk evaluasi performa model pada data baru.\n",
        "random_state=1 = Agar hasil pembagian data selalu konsisten setiap kali kode dijalankan."
      ],
      "metadata": {
        "id": "WqNtjjmDUK4D"
      },
      "id": "WqNtjjmDUK4D"
    },
    {
      "cell_type": "markdown",
      "source": [
        "**Choose a Benchmark Model**"
      ],
      "metadata": {
        "id": "fV6GQlk6-rp3"
      },
      "id": "fV6GQlk6-rp3"
    },
    {
      "cell_type": "code",
      "execution_count": null,
      "id": "cdf6097c",
      "metadata": {
        "id": "cdf6097c"
      },
      "outputs": [],
      "source": [
        "\n",
        "# Definisikan algoritma\n",
        "lr  = LinearRegression()\n",
        "knn = KNeighborsRegressor()\n",
        "dt  = DecisionTreeRegressor(random_state=1)\n",
        "rf  = RandomForestRegressor(random_state=1)\n",
        "xgb = XGBRegressor(random_state=1)\n",
        "\n",
        "# Gunakan log transformasi pada target\n",
        "log_lr  = TransformedTargetRegressor(lr,  func=np.log, inverse_func=np.exp)\n",
        "log_knn = TransformedTargetRegressor(knn, func=np.log, inverse_func=np.exp)\n",
        "log_dt  = TransformedTargetRegressor(dt,  func=np.log, inverse_func=np.exp)\n",
        "log_rf  = TransformedTargetRegressor(rf,  func=np.log, inverse_func=np.exp)\n",
        "log_xgb = TransformedTargetRegressor(xgb, func=np.log, inverse_func=np.exp)\n",
        "\n",
        "# Daftar model\n",
        "models = {\n",
        "    \"Linear Regression\" : log_lr,\n",
        "    \"KNN\"               : log_knn,\n",
        "    \"Decision Tree\"     : log_dt,\n",
        "    \"Random Forest\"     : log_rf,\n",
        "    \"XGBoost\"           : log_xgb\n",
        "}\n",
        "\n",
        "# Cross-validation setup\n",
        "cv = KFold(n_splits=5, shuffle=True, random_state=42)\n",
        "\n",
        "# Hasil evaluasi\n",
        "results = []\n",
        "\n",
        "for name, model in models.items():\n",
        "    estimator = Pipeline([\n",
        "        (\"preprocessing\", preprocessor),  # scaling + encoding\n",
        "        (\"model\", model)\n",
        "    ])\n",
        "\n",
        "    # RMSE\n",
        "    rmse = cross_val_score(\n",
        "        estimator,\n",
        "        X_train, y_train,\n",
        "        cv=cv,\n",
        "        scoring=\"neg_root_mean_squared_error\"\n",
        "    )\n",
        "\n",
        "    # MAE\n",
        "    mae = cross_val_score(\n",
        "        estimator,\n",
        "        X_train, y_train,\n",
        "        cv=cv,\n",
        "        scoring=\"neg_mean_absolute_error\"\n",
        "    )\n",
        "\n",
        "    # MAPE\n",
        "    mape = cross_val_score(\n",
        "        estimator,\n",
        "        X_train, y_train,\n",
        "        cv=cv,\n",
        "        scoring=\"neg_mean_absolute_percentage_error\"\n",
        "    )\n",
        "\n",
        "    results.append({\n",
        "        \"Model\": name,\n",
        "        \"RMSE Mean\": -rmse.mean(), \"RMSE Std\": rmse.std(),\n",
        "        \"MAE Mean\": -mae.mean(),   \"MAE Std\": mae.std(),\n",
        "        \"MAPE Mean\": -mape.mean(), \"MAPE Std\": mape.std()\n",
        "    })\n",
        "\n",
        "# Tampilkan hasil dalam DataFrame\n",
        "import pandas as pd\n",
        "df_results = pd.DataFrame(results)\n",
        "print(df_results)\n"
      ]
    },
    {
      "cell_type": "markdown",
      "source": [
        "Berdasarkan tabel hasil evaluasi, terdapat beberapa poin penting:\n",
        "1. Nilai RMSE umumnya lebih tinggi daripada MAE karena RMSE mengkuadratkan error sebelum dihitung rata-ratanya. Hal ini membuat RMSE lebih sensitif terhadap error besar (outlier). dengan kata lain, jika terdapat error yang cukup besar, RMSE akan meningkat lebih drastis dibandingkan MAE.\n",
        "2. XGBoost  Memiliki nilai RMSE terendah (89.85) dan juga MAE terendah (59.03).\n",
        "Ini menunjukkan bahwa XGBoost adalah model paling akurat dalam memprediksi cnt dibanding model lain. Nilai MAPE (0.6465) juga paling rendah, artinya kesalahan relatif dalam persen terhadap nilai sebenarnya juga kecil.\n",
        "3. Random Forest Mendapatkan hasil yang juga cukup baik dengan RMSE = 94.50 dan MAE = 61.70. Nilai MAPE = 0.7027, lebih tinggi daripada XGBoost, tapi masih stabil. Keunggulan Random Forest ada pada stabilitas: standar deviasi (RMSE Std = 2.40, MAE Std = 1.41) cukup kecil → performanya konsisten di berbagai data split.\n",
        "4. KKN Memiliki performa menengah dengan RMSE = 100.15, MAE = 65.35, dan MAPE = 0.7484. Tidak sebaik Random Forest dan XGBoost, tetapi masih lebih baik dibandingkan Linear Regression dan Decision Tree.\n",
        "5. Decision Tree Memiliki error paling tinggi (RMSE = 121.82, MAE = 79.30, MAPE = 1.0358). Hal ini menunjukkan model cenderung overfit pada data training dan tidak generalisasi dengan baik.\n",
        "6. Linear Regression Mendapatkan hasil terburuk dengan RMSE = 146.43 dan MAE = 100.34. Model ini terlalu sederhana untuk menangkap pola non-linear yang ada pada data peminjaman sepeda."
      ],
      "metadata": {
        "id": "xt4-AnoaFBQE"
      },
      "id": "xt4-AnoaFBQE"
    },
    {
      "cell_type": "markdown",
      "source": [
        "**Predict to Test Set with the Benchmark Model**\n",
        "\n",
        "Prediksi pada test set dengan menggunakan model XGBoost dan Random Forest"
      ],
      "metadata": {
        "id": "Px6EiI5mDRzA"
      },
      "id": "Px6EiI5mDRzA"
    },
    {
      "cell_type": "code",
      "source": [
        "# --- Benchmark Model: Random Forest & XGBoost ---\n",
        "best_models = {\n",
        "    \"RandomForest\": RandomForestRegressor(random_state=1),\n",
        "    \"XGBoost\": XGBRegressor(random_state=1)\n",
        "}\n",
        "\n",
        "# Simpan hasil evaluasi\n",
        "results = {}\n",
        "\n",
        "for name, model in best_models.items():\n",
        "    pipeline = Pipeline([\n",
        "        (\"preprocessor\", preprocessor),\n",
        "        # Removed the redundant (\"scaler\", StandardScaler()) step\n",
        "        #(\"scaler\", StandardScaler()),\n",
        "        (\"model\", TransformedTargetRegressor(model, func=np.log, inverse_func=np.exp))\n",
        "    ])\n",
        "\n",
        "    # Fit ke train\n",
        "    pipeline.fit(X_train, y_train)\n",
        "\n",
        "    # Predict ke test\n",
        "    y_pred = pipeline.predict(X_test)\n",
        "\n",
        "    # Hitung metrics\n",
        "    rmse = np.sqrt(mean_squared_error(y_test, y_pred))\n",
        "    mae  = mean_absolute_error(y_test, y_pred)\n",
        "    mape = mean_absolute_percentage_error(y_test, y_pred)\n",
        "    r2   = r2_score(y_test, y_pred)\n",
        "\n",
        "    results[name] = {\n",
        "        \"RMSE\": rmse,\n",
        "        \"MAE\": mae,\n",
        "        \"MAPE\": mape,\n",
        "        \"R2\": r2\n",
        "    }\n",
        "\n",
        "    # Scatter plot\n",
        "    plt.figure(figsize=(6,6))\n",
        "    plt.scatter(y_test, y_pred, alpha=0.5)\n",
        "    plt.plot([y_test.min(), y_test.max()],\n",
        "             [y_test.min(), y_test.max()],\n",
        "             'r--', lw=2)  # garis ideal y = x\n",
        "    plt.xlabel(\"Actual\")\n",
        "    plt.ylabel(\"Predicted\")\n",
        "    plt.title(f\"Actual vs Predicted ({name})\")\n",
        "    plt.show()\n",
        "\n",
        "# Tampilkan hasil\n",
        "import pandas as pd\n",
        "pd.DataFrame(results).T"
      ],
      "metadata": {
        "id": "i1KDZ73sDdBW"
      },
      "id": "i1KDZ73sDdBW",
      "execution_count": null,
      "outputs": []
    },
    {
      "cell_type": "markdown",
      "source": [
        "- XGBoost menggunakan boosting (memperbaiki error secara bertahap dari model sebelumnya), sehingga lebih mampu menangkap pola kompleks.\n",
        "\n",
        "- Random Forest menggunakan bagging (menggabungkan banyak pohon secara paralel), sehingga lebih stabil dan tahan terhadap overfitting.\n",
        "\n",
        "- Pada dataset ini, pola non-linear yang kompleks lebih cocok ditangkap oleh boosting → sehingga XGBoost unggul.\n"
      ],
      "metadata": {
        "id": "MdGj-390EXye"
      },
      "id": "MdGj-390EXye"
    },
    {
      "cell_type": "markdown",
      "id": "f212d9aa",
      "metadata": {
        "id": "f212d9aa"
      },
      "source": [
        "**Hyperparameter Tuning**\n",
        "\n",
        "Karena model XGBoost memiliki performa yang sedikit lebih baik dari RandomForest, maka selanjutnya kita akan menggunakan model XGBoost ini sebagai model akhir. Pada tahap ini, kita akan melakukan hyperparameter tuning pada model XGBoost dengan harapan dapat meningkatkan performa model."
      ]
    },
    {
      "cell_type": "code",
      "source": [
        "pip install optuna"
      ],
      "metadata": {
        "id": "OR37L6pMMYjS"
      },
      "id": "OR37L6pMMYjS",
      "execution_count": null,
      "outputs": []
    },
    {
      "cell_type": "code",
      "source": [
        "import optuna\n",
        "from sklearn.ensemble import RandomForestRegressor\n",
        "from sklearn.model_selection import cross_val_score"
      ],
      "metadata": {
        "id": "k9e43wFuMZ1Z"
      },
      "id": "k9e43wFuMZ1Z",
      "execution_count": null,
      "outputs": []
    },
    {
      "cell_type": "code",
      "source": [
        "# -----------------------------\n",
        "# Objective untuk Random Forest\n",
        "# -----------------------------\n",
        "def objective_rf(trial):\n",
        "    n_estimators = trial.suggest_int(\"n_estimators\", 50, 500)\n",
        "    max_depth = trial.suggest_int(\"max_depth\", 3, 30)\n",
        "    min_samples_split = trial.suggest_int(\"min_samples_split\", 2, 10)\n",
        "    min_samples_leaf = trial.suggest_int(\"min_samples_leaf\", 1, 5)\n",
        "\n",
        "    model = RandomForestRegressor(\n",
        "        n_estimators=n_estimators,\n",
        "        max_depth=max_depth,\n",
        "        min_samples_split=min_samples_split,\n",
        "        min_samples_leaf=min_samples_leaf,\n",
        "        random_state=42,\n",
        "        n_jobs=-1\n",
        "    )\n",
        "\n",
        "    score = cross_val_score(model, X, y, cv=5, scoring=\"r2\").mean()\n",
        "    return score\n",
        "\n",
        "\n",
        "# -----------------------------\n",
        "# Objective untuk XGBoost\n",
        "# -----------------------------\n",
        "def objective_xgb(trial):\n",
        "    n_estimators = trial.suggest_int(\"n_estimators\", 50, 500)\n",
        "    max_depth = trial.suggest_int(\"max_depth\", 3, 15)\n",
        "    learning_rate = trial.suggest_float(\"learning_rate\", 0.01, 0.3)\n",
        "    subsample = trial.suggest_float(\"subsample\", 0.5, 1.0)\n",
        "    colsample_bytree = trial.suggest_float(\"colsample_bytree\", 0.5, 1.0)\n",
        "\n",
        "    model = XGBRegressor(\n",
        "        n_estimators=n_estimators,\n",
        "        max_depth=max_depth,\n",
        "        learning_rate=learning_rate,\n",
        "        subsample=subsample,\n",
        "        colsample_bytree=colsample_bytree,\n",
        "        random_state=42,\n",
        "        n_jobs=-1,\n",
        "        verbosity=0\n",
        "    )\n",
        "\n",
        "    score = cross_val_score(model, X, y, cv=5, scoring=\"r2\").mean()\n",
        "    return score\n",
        "\n",
        "\n",
        "# -----------------------------\n",
        "# Jalankan study untuk RF\n",
        "# -----------------------------\n",
        "study_rf = optuna.create_study(direction=\"maximize\")\n",
        "study_rf.optimize(objective_rf, n_trials=50)\n",
        "\n",
        "print(\"=== Random Forest Best Params ===\")\n",
        "print(study_rf.best_params)\n",
        "print(\"Best R2:\", study_rf.best_value)\n",
        "\n",
        "\n",
        "# -----------------------------\n",
        "# Jalankan study untuk XGBoost\n",
        "# -----------------------------\n",
        "study_xgb = optuna.create_study(direction=\"maximize\")\n",
        "study_xgb.optimize(objective_xgb, n_trials=50)\n",
        "\n",
        "print(\"=== XGBoost Best Params ===\")\n",
        "print(study_xgb.best_params)\n",
        "print(\"Best R2:\", study_xgb.best_value)\n",
        "\n",
        "\n",
        "# -----------------------------\n",
        "# Bandingkan Hasil\n",
        "# -----------------------------\n",
        "if study_rf.best_value > study_xgb.best_value:\n",
        "    print(\"\\n>> Random Forest lebih baik dengan R²:\", study_rf.best_value)\n",
        "else:\n",
        "    print(\"\\n>> XGBoost lebih baik dengan R²:\", study_xgb.best_value)"
      ],
      "metadata": {
        "id": "9P6DjEGlBJha"
      },
      "id": "9P6DjEGlBJha",
      "execution_count": null,
      "outputs": []
    },
    {
      "cell_type": "code",
      "source": [
        "print(\"Best Parameters:\", study_xgb.best_params)\n",
        "print(\"Best R2 Score:\", study_xgb.best_value)"
      ],
      "metadata": {
        "id": "xpLLoDZ2HL6y"
      },
      "id": "xpLLoDZ2HL6y",
      "execution_count": null,
      "outputs": []
    },
    {
      "cell_type": "markdown",
      "source": [
        "Hasil Tuning (Best Parameters):\n",
        "\n",
        "1. n_estimators = 499 → Jumlah pohon yang digunakan cukup banyak (hampir 500).\n",
        "Ini artinya model butuh banyak pohon untuk mencapai performa optimal → data cukup kompleks.\n",
        "\n",
        "2. max_depth = 5 → Kedalaman tiap pohon relatif moderat.\n",
        "Tidak terlalu dangkal (underfitting), tidak terlalu dalam (overfitting).\n",
        "Jadi XGBoost berusaha menangkap interaksi antar-fitur tapi tetap menjaga generalisasi.\n",
        "\n",
        "3. learning_rate = 0.0536 → Cukup kecil, yang bagus karena model belajar secara bertahap & stabil.\n",
        "Nilai rendah learning rate biasanya dikompensasi dengan jumlah pohon yang banyak (di sini 499 pohon).\n",
        "\n",
        "4. subsample = 0.6998 (~70%)\n",
        "→ Setiap pohon hanya melihat sekitar 70% sampel.\n",
        "Ini membantu mengurangi overfitting dengan membuat pohon lebih beragam (mirip konsep bagging).\n",
        "\n",
        "5. colsample_bytree = 0.8766 (~87%)\n",
        "→ Setiap pohon hanya melihat sekitar 87% fitur.\n",
        "Artinya XGBoost menambahkan variasi antar pohon dengan tidak selalu menggunakan semua fitur → memperkuat generalisasi.\n",
        "\n",
        "\n",
        "Best Performance:\n",
        "\n",
        "Best R² Score = 0.7010\n",
        "→ Ini cukup tinggi dan lebih baik dibanding Random Forest (R² = 0.622)\n",
        "→ Artinya XGBoost dengan tuning bisa menjelaskan sekitar 70% variasi data, sedangkan Random Forest hanya sekitar 62%."
      ],
      "metadata": {
        "id": "EeQe_mYfXOBQ"
      },
      "id": "EeQe_mYfXOBQ"
    },
    {
      "cell_type": "markdown",
      "source": [
        "**Predict to Test Set with the Tuned Model**\n",
        "\n",
        "Melakukan prediksi pada test set dengan menggunakan model XGBoost dan hyperparameter terpilih."
      ],
      "metadata": {
        "id": "i6RrhDH8IMiA"
      },
      "id": "i6RrhDH8IMiA"
    },
    {
      "cell_type": "code",
      "source": [
        "\n",
        "# Define model with the best parameters from Optuna\n",
        "xgb_tuned = XGBRegressor(random_state=1, **study_xgb.best_params)\n",
        "\n",
        "# Create a pipeline with the preprocessor and the tuned XGBoost model\n",
        "pipeline_xgb_tuned = Pipeline([\n",
        "    (\"preprocessor\", preprocessor),\n",
        "    (\"model\", TransformedTargetRegressor(xgb_tuned, func=np.log, inverse_func=np.exp))\n",
        "])\n",
        "\n",
        "\n",
        "# Fitting model\n",
        "pipeline_xgb_tuned.fit(X_train, y_train)\n",
        "\n",
        "# Predict test set\n",
        "y_pred_xgb_tuning = pipeline_xgb_tuned.predict(X_test)\n",
        "\n",
        "# Simpan nilai metrics RMSE, MAE & MAPE after tuning\n",
        "rmse_xgb_tuning = np.sqrt(mean_squared_error(y_test, y_pred_xgb_tuning))\n",
        "mae_xgb_tuning = mean_absolute_error(y_test, y_pred_xgb_tuning)\n",
        "mape_xgb_tuning = mean_absolute_percentage_error(y_test, y_pred_xgb_tuning)\n",
        "r2_xgb_tuning = r2_score(y_test, y_pred_xgb_tuning) # Calculate R2 as well\n",
        "\n",
        "score_after_tuning = pd.DataFrame({\n",
        "    'RMSE': rmse_xgb_tuning,\n",
        "    'MAE': mae_xgb_tuning,\n",
        "    'MAPE': mape_xgb_tuning,\n",
        "    'R2': r2_xgb_tuning # Added R2\n",
        "}, index=['XGBoost']) # Changed index name\n",
        "display(score_after_tuning) # Use display for better formatting"
      ],
      "metadata": {
        "id": "-78qyFMQINPw"
      },
      "id": "-78qyFMQINPw",
      "execution_count": null,
      "outputs": []
    },
    {
      "cell_type": "markdown",
      "source": [
        "RMSE = 89.84\n",
        "→ Rata-rata kesalahan kuadrat akar sekitar ±90 unit.\n",
        "Ini lebih rendah dibanding hasil sebelum tuning (≈ 90.91).\n",
        "Walaupun penurunan tidak terlalu drastis, artinya tuning membantu sedikit menurunkan variabilitas error.\n",
        "\n",
        "MAE = 59.25\n",
        "→ Rata-rata error absolut sekitar 59 unit.\n",
        "Ini cukup baik, dan menunjukkan prediksi cukup dekat dengan nilai aktual.\n",
        "MAE lebih rendah dari Random Forest (≈ 62.28) → artinya secara umum prediksi XGBoost lebih akurat.\n",
        "\n",
        "MAPE = 0.612 (≈ 61%)\n",
        "→ Kesalahan relatif terhadap data aktual sekitar 61%.\n",
        "Nilai ini masih lumayan tinggi, tapi biasanya dipengaruhi oleh data dengan nilai kecil (MAPE sensitif terhadap pembagi).\n",
        "Namun tetap lebih baik dibanding Random Forest (≈ 69%).\n",
        "\n",
        "R² = 0.662\n",
        "→ Model mampu menjelaskan 66% variasi data pada test set.\n",
        "Walaupun lebih rendah dibanding hasil validasi tuning terbaik (≈0.70), ini masih cukup solid.\n",
        "Penurunan dari 0.70 → 0.66 wajar karena test set biasanya lebih sulit daripada data training/validasi."
      ],
      "metadata": {
        "id": "g3_d7V9VYhXA"
      },
      "id": "g3_d7V9VYhXA"
    },
    {
      "cell_type": "markdown",
      "source": [
        "**Performance Comparison**\n",
        "\n",
        "Perbandingan performa model XGBoost sebelum dan sesudah dilakukan hyperparameter tuning."
      ],
      "metadata": {
        "id": "FlAdJ7crwv3q"
      },
      "id": "FlAdJ7crwv3q"
    },
    {
      "cell_type": "code",
      "source": [
        "# Create a DataFrame from the results dictionary (benchmark models)\n",
        "score_before_tuning_df = pd.DataFrame(results).T\n",
        "\n",
        "# Before hyperparameter tuning - Display benchmark model scores\n",
        "print(\"Before Hyperparameter Tuning:\")\n",
        "display(score_before_tuning_df)\n",
        "\n",
        "# Sesudah hyperparameter tuning - Display tuned XGBoost score\n",
        "print(\"\\nAfter Hyperparameter Tuning:\")\n",
        "display(score_after_tuning)"
      ],
      "metadata": {
        "id": "fcisFp0Twwur"
      },
      "id": "fcisFp0Twwur",
      "execution_count": null,
      "outputs": []
    },
    {
      "cell_type": "markdown",
      "source": [
        "Model mengalami peningkatan performa (nilai RMSE, MAE & MAPE berkurang) dengan\n",
        "dilakukannya hyperparameter tuning, walaupun hanya sedikit.\n",
        "- RMSE, MAE & MAPE sebelum tuning: 90.90, 59.78, 0.629\n",
        "- RMSE, MAE & MAPE setelah tuning: 89.84, 59.24, 0.612"
      ],
      "metadata": {
        "id": "R0UwmRGtw8Sa"
      },
      "id": "R0UwmRGtw8Sa"
    },
    {
      "cell_type": "code",
      "source": [
        "plt.figure(figsize=(14, 8))\n",
        "plot = sns.scatterplot(x=y_test, y=y_pred_xgb_tuning).set(title='Actual vs. Prediction cnt',\n",
        "                                               xlabel='Actual cnt',\n",
        "                                               ylabel='Predicted cnt');"
      ],
      "metadata": {
        "id": "RyzdSoNkxDJC"
      },
      "id": "RyzdSoNkxDJC",
      "execution_count": null,
      "outputs": []
    },
    {
      "cell_type": "markdown",
      "source": [
        "Setelah dilakukan hyperparameter tuning, performa model mengalami sedikit peningkatan. Nilai error menurun pada semua metrik evaluasi:\n",
        "\n",
        "RMSE: dari 90.90 → 89.84\n",
        "\n",
        "MAE: dari 59.78 → 59.24\n",
        "\n",
        "MAPE: dari 0.629 → 0.612\n",
        "\n",
        "Penurunan ini menunjukkan bahwa tuning berhasil membuat model lebih mampu menyesuaikan parameter-parameter internalnya sehingga menghasilkan prediksi yang lebih baik, meskipun peningkatannya relatif kecil.\n",
        "\n",
        "Perbedaan antara RMSE dan MAE tetap cukup jelas. RMSE masih lebih besar karena lebih sensitif terhadap error besar (outlier), sementara MAE mencerminkan rata-rata kesalahan absolut tanpa memberi bobot lebih pada error besar. Dengan kata lain, meskipun tuning menurunkan error, masih terdapat beberapa prediksi dengan error tinggi yang memengaruhi nilai RMSE.\n",
        "\n",
        "Nilai MAPE ≈ 61% menunjukkan bahwa secara rata-rata, prediksi model masih memiliki deviasi yang cukup besar terhadap nilai aktual. Hal ini menandakan bahwa meskipun tuning memberikan perbaikan, akurasi model secara keseluruhan masih perlu ditingkatkan agar lebih layak digunakan dalam forecasting yang lebih presisi."
      ],
      "metadata": {
        "id": "FknBi8BTxF3j"
      },
      "id": "FknBi8BTxF3j"
    },
    {
      "cell_type": "markdown",
      "source": [
        "**Feature Importances**"
      ],
      "metadata": {
        "id": "aUj9BaMtxHUT"
      },
      "id": "aUj9BaMtxHUT"
    },
    {
      "cell_type": "markdown",
      "source": [
        "Untuk dapat mengetahui sebenarnya fitur apa saja yang sangat memengaruhi target (cnt), kita dapat mengeceknya melalui function feature_importances.\n",
        "\n"
      ],
      "metadata": {
        "id": "7ByN-s4nxUbr"
      },
      "id": "7ByN-s4nxUbr"
    },
    {
      "cell_type": "code",
      "source": [
        "rf = RandomForestRegressor(n_estimators=100, random_state=42)\n",
        "\n",
        "# Create a pipeline including the preprocessor and the RF model\n",
        "pipe_rf = Pipeline([('preprocessor', preprocessor), ('model', rf)])\n",
        "\n",
        "# Fit the pipeline on the training data\n",
        "pipe_rf.fit(X_train, y_train)\n",
        "\n",
        "fitted_preprocessor = pipe_rf.named_steps['preprocessor']\n",
        "all_features = list(fitted_preprocessor.get_feature_names_out())\n",
        "\n",
        "\n",
        "# Get feature importances from the fitted Random Forest model\n",
        "importances = pipe_rf.named_steps['model'].feature_importances_\n",
        "\n",
        "# Create DataFrame for feature importances\n",
        "fi = pd.DataFrame({'feature': all_features, 'importance': importances}).sort_values('importance', ascending=False)\n",
        "\n",
        "# Display top 20 feature importances\n",
        "display(fi.head(20))\n",
        "\n",
        "# Plot top 15 feature importances\n",
        "plt.figure(figsize=(8,6))\n",
        "sns.barplot(data=fi.head(15), x='importance', y='feature')\n",
        "plt.title('Top 15 feature importances')\n",
        "plt.tight_layout()\n",
        "plt.show()"
      ],
      "metadata": {
        "id": "iyLFdAyvMTdw"
      },
      "id": "iyLFdAyvMTdw",
      "execution_count": null,
      "outputs": []
    },
    {
      "cell_type": "markdown",
      "source": [
        "1. num__hr (jam) → 0.55 (sangat dominan) = Ini menunjukkan bahwa jam (hour) adalah faktor terpenting dalam menentukan jumlah penyewaan sepeda.\n",
        " Hal ini masuk akal, karena pola penyewaan sepeda biasanya dipengaruhi jam sibuk (pagi & sore saat berangkat/pulang kerja) dan relatif lebih rendah di luar jam sibuk.\n",
        "\n",
        "2.  num__temp (suhu) → 0.22 Suhu juga memiliki pengaruh besar = Semakin nyaman suhu (tidak terlalu panas atau dingin), maka orang lebih cenderung menggunakan sepeda.\n",
        "\n",
        "3. num__hum (kelembapan) → 0.13 = Kelembapan berperan sedang. Kelembapan tinggi biasanya membuat orang enggan bersepeda karena kondisi tidak nyaman.\n",
        "\n",
        "4. num__season (musim) → 0.045 = Musim berpengaruh tetapi tidak sebesar jam, suhu, atau kelembapan. Ini mungkin karena musim sudah secara tidak langsung memengaruhi suhu dan cuaca, sehingga pengaruh langsungnya lebih kecil.\n",
        "\n",
        "5. num__weathersit (kondisi cuaca) → 0.034 = Kondisi cuaca (cerah, mendung, hujan ringan, hujan lebat/salju) juga memengaruhi. Namun ternyata kontribusinya relatif lebih kecil dibandingkan suhu dan kelembapan, mungkin karena sudah ada redundansi informasi di antara variabel-variabel cuaca.\n",
        "\n",
        "6. num__holiday (hari libur) → 0.0079 (sangat kecil) = Hari libur ternyata hampir tidak berpengaruh secara signifikan dalam model. Bisa jadi pola peminjaman di hari libur tidak jauh berbeda atau bervariasi secara acak sehingga kontribusinya rendah."
      ],
      "metadata": {
        "id": "g1H1J-lXWUVA"
      },
      "id": "g1H1J-lXWUVA"
    },
    {
      "cell_type": "markdown",
      "id": "19d0dab6",
      "metadata": {
        "id": "19d0dab6"
      },
      "source": [
        "### **6. CONCLUSION**\n"
      ]
    },
    {
      "cell_type": "markdown",
      "source": [
        "Berdasarkan hasil pemodelan yang telah dilakukan, dapat disimpulkan bahwa fitur yang paling berpengaruh terhadap jumlah peminjaman sepeda (cnt) adalah jam (hour), suhu (temperature), kelembapan (humidity), musim (season), kondisi cuaca (weathersit), serta hari kerja/libur (holiday/workingday). Hal ini sejalan dengan logika perilaku pengguna, di mana faktor waktu, cuaca, dan kondisi kalender sangat menentukan intensitas peminjaman sepeda.\n",
        "\n",
        "Evaluasi performa model menggunakan metrik RMSE, MAE, dan MAPE menunjukkan adanya peningkatan setelah dilakukan hyperparameter tuning. Nilai error menurun dari:\n",
        "\n",
        "Sebelum tuning → RMSE = 90.90, MAE = 59.78, MAPE ≈ 0.629\n",
        "\n",
        "Sesudah tuning → RMSE = 89.84, MAE = 59.24, MAPE ≈ 0.612\n",
        "\n",
        "Meskipun perbaikan yang dicapai relatif kecil, hasil ini membuktikan bahwa tuning hyperparameter membantu meningkatkan akurasi model.\n",
        "\n",
        "Namun, jika ditinjau dari nilai MAPE (≈ 61%), dapat disimpulkan bahwa rata-rata prediksi model masih meleset sekitar 61% dari nilai aktual. Dengan kata lain, tingkat akurasi model belum sepenuhnya memadai untuk forecasting dengan presisi tinggi.\n",
        "\n",
        "Selain itu, perbedaan yang cukup besar antara RMSE dan MAE menunjukkan adanya beberapa kasus prediksi dengan error yang tinggi (outlier). Hal ini terlihat pada kecenderungan model melakukan overestimation (prediksi terlalu tinggi) maupun underestimation (prediksi terlalu rendah).\n",
        "\n",
        "Keterbatasan akurasi model ini kemungkinan disebabkan oleh faktor eksternal yang tidak tercakup dalam dataset, seperti kondisi lalu lintas, adanya event/kegiatan khusus di kota, maupun preferensi pengguna individu. Dengan penambahan variabel-variabel tersebut, model berpotensi menghasilkan prediksi yang lebih akurat."
      ],
      "metadata": {
        "id": "EotfLINTx5qD"
      },
      "id": "EotfLINTx5qD"
    },
    {
      "cell_type": "markdown",
      "source": [
        "### **Recommendations**"
      ],
      "metadata": {
        "id": "0oEuggN8x_yS"
      },
      "id": "0oEuggN8x_yS"
    },
    {
      "cell_type": "markdown",
      "source": [
        "    Ke depan, model ini masih dapat diimprovisasi, misalnya dengan menambahkan feature engineering (lag features, moving average), mencoba ensemble/stacking model, atau memperkaya dataset dengan variabel lain yang relevan. Selain itu, uji coba model pada data real (A/B testing) juga penting dilakukan agar dapat menilai efektivitas model dalam mendukung kebijakan atau strategi peningkatan jumlah peminjaman sepeda.\n",
        "\n",
        "\n",
        "Lalu, hal-hal yang dapat dilakukan untuk mengembangkan model agar lebih baik lagi, seperti:\n",
        "1. Analisis Error Ekstrim\n",
        "Mengecek prediksi mana saja yang memiliki error paling tinggi. Error dapat dikelompokkan menjadi tiga grup, yaitu overestimation (5%), underestimation (5%), dan mayoritas dengan error mendekati rata-rata (90%). Dengan cara ini, kita bisa melihat variabel apa saja (misalnya suhu, kelembapan, musim) yang paling berkorelasi dengan error tinggi. Hasil analisis dapat digunakan untuk melakukan feature engineering lebih lanjut agar model lebih robust.\n",
        "\n",
        "2. Penambahan Fitur yang Lebih Relevan dengan Peminjaman Sepeda\n",
        "Jika memungkinkan, menambahkan fitur yang lebih berkorelasi dengan jumlah peminjaman sepeda, seperti data kualitas udara, kondisi lalu lintas, keberadaan event/kegiatan kota, atau ketersediaan transportasi publik lain. Selain itu, penambahan data terkini tentu akan membantu meningkatkan kapasitas prediksi model.\n",
        "\n",
        "3. Eksperimen dengan Model yang Lebih Kompleks\n",
        "Jika dataset diperluas dengan lebih banyak data dan variabel, dapat dicoba penggunaan model yang lebih kompleks, seperti recurrent neural networks (RNN) atau long short-term memory (LSTM), yang lebih cocok untuk data deret waktu (time series). Namun, jika data masih terbatas seperti saat ini, peningkatan akurasi mungkin tidak signifikan.\n",
        "\n",
        "4. Pengembangan Model Lanjutan\n",
        "Model peminjaman sepeda ini juga bisa dikembangkan lebih lanjut untuk tujuan lain. Misalnya, membangun model untuk memprediksi pola permintaan sepeda per jam di stasiun tertentu atau estimasi kebutuhan redistribusi sepeda. Jika tersedia data tambahan, seperti ulasan pengguna atau survei kepuasan, dapat pula dilakukan sentiment analysis untuk mengaitkan faktor kenyamanan dan kualitas layanan dengan tingkat peminjaman sepeda."
      ],
      "metadata": {
        "id": "G-m-IHtjfi1V"
      },
      "id": "G-m-IHtjfi1V"
    },
    {
      "cell_type": "code",
      "execution_count": null,
      "id": "1bf66fec",
      "metadata": {
        "id": "1bf66fec"
      },
      "outputs": [],
      "source": [
        "# Save model\n",
        "# import pickle\n",
        "\n",
        "# estimator = Pipeline([('preprocess', transformer), ('model', XGBRegressor())])\n",
        "# estimator.fit(X_train, y_train)\n",
        "\n",
        "# pickle.dump(estimator, open('Model_Airbnb_XGB.sav', 'wb'))\n",
        "# Load model\n",
        "# filename = 'Model_Airbnb_XGB.sav'\n",
        "# loaded_model = pickle.load(open(filename, 'rb'))\n",
        "# np.sqrt(mean_squared_error(y_test, loaded_model.predict(X_test)))\n",
        "final_model = None\n",
        "try:\n",
        "    final_model = best_models\n",
        "except NameError:\n",
        "    final_model = pipe_rf\n",
        "\n",
        "out_path = '/kaggle/final_bike_sharing_model.pkl'\n",
        "with open(out_path, 'wb') as f:\n",
        "    pickle.dump(final_model, f)\n",
        "print('Saved final model to', out_path)\n"
      ]
    },
    {
      "cell_type": "markdown",
      "id": "8db40075",
      "metadata": {
        "id": "8db40075"
      },
      "source": []
    }
  ],
  "metadata": {
    "colab": {
      "provenance": [],
      "include_colab_link": true
    },
    "language_info": {
      "name": "python"
    },
    "kernelspec": {
      "name": "python3",
      "display_name": "Python 3"
    }
  },
  "nbformat": 4,
  "nbformat_minor": 5
}